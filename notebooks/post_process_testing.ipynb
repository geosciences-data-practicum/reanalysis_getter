{
 "cells": [
  {
   "cell_type": "markdown",
   "metadata": {},
   "source": [
    "this notebook only exists to prototpye code before it goes in .py files"
   ]
  },
  {
   "cell_type": "code",
   "execution_count": 3,
   "metadata": {},
   "outputs": [
    {
     "name": "stdout",
     "output_type": "stream",
     "text": [
      "The autoreload extension is already loaded. To reload it, use:\n",
      "  %reload_ext autoreload\n"
     ]
    }
   ],
   "source": [
    "%load_ext autoreload\n",
    "%autoreload 2 "
   ]
  },
  {
   "cell_type": "code",
   "execution_count": 38,
   "metadata": {},
   "outputs": [
    {
     "name": "stderr",
     "output_type": "stream",
     "text": [
      "/home/afarah/.conda/envs/jetstream/lib/python3.6/site-packages/distributed/node.py:155: UserWarning: Port 8787 is already in use.\n",
      "Perhaps you already have a cluster running?\n",
      "Hosting the HTTP server on port 47433 instead\n",
      "  http_address[\"port\"], self.http_server.port\n"
     ]
    },
    {
     "data": {
      "text/html": [
       "<table style=\"border: 2px solid white;\">\n",
       "<tr>\n",
       "<td style=\"vertical-align: top; border: 0px solid white\">\n",
       "<h3 style=\"text-align: left;\">Client</h3>\n",
       "<ul style=\"text-align: left; list-style: none; margin: 0; padding: 0;\">\n",
       "  <li><b>Scheduler: </b>tcp://127.0.0.1:47077</li>\n",
       "  <li><b>Dashboard: </b><a href='http://127.0.0.1:47433/status' target='_blank'>http://127.0.0.1:47433/status</a></li>\n",
       "</ul>\n",
       "</td>\n",
       "<td style=\"vertical-align: top; border: 0px solid white\">\n",
       "<h3 style=\"text-align: left;\">Cluster</h3>\n",
       "<ul style=\"text-align: left; list-style:none; margin: 0; padding: 0;\">\n",
       "  <li><b>Workers: </b>8</li>\n",
       "  <li><b>Cores: </b>56</li>\n",
       "  <li><b>Memory: </b>269.63 GB</li>\n",
       "</ul>\n",
       "</td>\n",
       "</tr>\n",
       "</table>"
      ],
      "text/plain": [
       "<Client: 'tcp://127.0.0.1:47077' processes=8 threads=56, memory=269.63 GB>"
      ]
     },
     "execution_count": 38,
     "metadata": {},
     "output_type": "execute_result"
    }
   ],
   "source": [
    "from dask.distributed import Client, LocalCluster\n",
    "import xarray as xr\n",
    "client = Client()\n",
    "client"
   ]
  },
  {
   "cell_type": "code",
   "execution_count": 1,
   "metadata": {},
   "outputs": [
    {
     "name": "stderr",
     "output_type": "stream",
     "text": [
      "In /home/afarah/.conda/envs/jetstream/lib/python3.6/site-packages/matplotlib/mpl-data/stylelib/_classic_test.mplstyle: \n",
      "The text.latex.preview rcparam was deprecated in Matplotlib 3.3 and will be removed two minor releases later.\n",
      "In /home/afarah/.conda/envs/jetstream/lib/python3.6/site-packages/matplotlib/mpl-data/stylelib/_classic_test.mplstyle: \n",
      "The mathtext.fallback_to_cm rcparam was deprecated in Matplotlib 3.3 and will be removed two minor releases later.\n",
      "In /home/afarah/.conda/envs/jetstream/lib/python3.6/site-packages/matplotlib/mpl-data/stylelib/_classic_test.mplstyle: Support for setting the 'mathtext.fallback_to_cm' rcParam is deprecated since 3.3 and will be removed two minor releases later; use 'mathtext.fallback : 'cm' instead.\n",
      "In /home/afarah/.conda/envs/jetstream/lib/python3.6/site-packages/matplotlib/mpl-data/stylelib/_classic_test.mplstyle: \n",
      "The validate_bool_maybe_none function was deprecated in Matplotlib 3.3 and will be removed two minor releases later.\n",
      "In /home/afarah/.conda/envs/jetstream/lib/python3.6/site-packages/matplotlib/mpl-data/stylelib/_classic_test.mplstyle: \n",
      "The savefig.jpeg_quality rcparam was deprecated in Matplotlib 3.3 and will be removed two minor releases later.\n",
      "In /home/afarah/.conda/envs/jetstream/lib/python3.6/site-packages/matplotlib/mpl-data/stylelib/_classic_test.mplstyle: \n",
      "The keymap.all_axes rcparam was deprecated in Matplotlib 3.3 and will be removed two minor releases later.\n",
      "In /home/afarah/.conda/envs/jetstream/lib/python3.6/site-packages/matplotlib/mpl-data/stylelib/_classic_test.mplstyle: \n",
      "The animation.avconv_path rcparam was deprecated in Matplotlib 3.3 and will be removed two minor releases later.\n",
      "In /home/afarah/.conda/envs/jetstream/lib/python3.6/site-packages/matplotlib/mpl-data/stylelib/_classic_test.mplstyle: \n",
      "The animation.avconv_args rcparam was deprecated in Matplotlib 3.3 and will be removed two minor releases later.\n"
     ]
    }
   ],
   "source": [
    "from jetstream.post_proc import SingleModelPostProcessor\n",
    "import os"
   ]
  },
  {
   "cell_type": "code",
   "execution_count": 4,
   "metadata": {},
   "outputs": [],
   "source": [
    "def main(path_processed,shortname,path_postproc,var_of_interest):\n",
    "    #create class\n",
    "    single = SingleModelPostProcessor(path_to_files=path_processed,\n",
    "         path_to_save_files=path_postproc+shortname+var_of_interest,\n",
    "         diagnostic_var=var_of_interest,\n",
    "         season='DJF')\n",
    "    #demean or shift\n",
    "    if var_of_interest =='t_prime':\n",
    "        filename=path_postproc+f'{shortname}_{var_of_interest}_demeaned.nc4'\n",
    "        single.demean(single.dataset.t_prime).rename('dm_t_prime'\n",
    "                                            ).to_netcdf(filename)\n",
    "    elif var_of_interest == 'eff_lat':\n",
    "        filename=path_postproc+f'{shortname}_{var_of_interest}_demeaned_shifted.nc4'\n",
    "        single.demeaned_shift(single.dataset).rename(\n",
    "            {var_of_interest: 'phi_eq_prime'\n",
    "            }).to_netcdf(filename)"
   ]
  },
  {
   "cell_type": "code",
   "execution_count": 6,
   "metadata": {},
   "outputs": [],
   "source": [
    "import xarray as xr\n",
    "ds1 =  xr.open_mfdataset(\"/project2/moyer/jetstream/era5_processed_data/ds_1979_2021_lat_20_1D_renamed/ds_1979_2021_lat_20_1D_renamed_t_prime_2019-12-01_2020-03-01_new.nc4\",\n",
    "                       chunks={'time': 1},\n",
    "                       concat_dim='time')"
   ]
  },
  {
   "cell_type": "code",
   "execution_count": 13,
   "metadata": {},
   "outputs": [
    {
     "data": {
      "text/plain": [
       "array([0.])"
      ]
     },
     "execution_count": 13,
     "metadata": {},
     "output_type": "execute_result"
    }
   ],
   "source": [
    "import numpy as np\n",
    "np.unique((ds1-ds).t_prime.compute())"
   ]
  },
  {
   "cell_type": "code",
   "execution_count": 39,
   "metadata": {},
   "outputs": [],
   "source": [
    "import xarray as xr\n",
    "def preprocess(ds):\n",
    "    return ds.sortby('time')\n",
    "path = '/project2/moyer/jetstream/era5_processed_data/ds_1979_2021_lat_20_1D_renamed'\n",
    "full_data = xr.open_mfdataset(f'{path}/ds_1979_2021_lat_20_1D_renamed_t_prime_*.nc4',\n",
    "                 preprocess=preprocess,\n",
    "                 chunks={'time': 1},\n",
    "                 )\n"
   ]
  },
  {
   "cell_type": "code",
   "execution_count": 40,
   "metadata": {},
   "outputs": [],
   "source": [
    "def preprocess_mf(array):\n",
    "    var = list(array.variables.keys())[-1]\n",
    "    if var not in ['eff_lat','t_prime']:\n",
    "        array = array.rename({var: 'eff_lat'})\n",
    "        #array_filter = array.where(array.eff_lat != 0, drop=True) #to test if doesnt work: array.where\n",
    "    #elif var == 't_prime':\n",
    "        #array_filter = array.where(array.t_prime != 0, drop=True)\n",
    "    array_sorted = array.sortby('time')\n",
    "    return array_sorted\n",
    "\n",
    "path = '/project2/moyer/jetstream/era5_processed_data/ds_1979_2021_lat_20_1D_renamed'\n",
    "_full_dataset = xr.open_mfdataset(f'{path}/ds_1979_2021_lat_20_1D_renamed_eff_lat_*.nc4',\n",
    "                                         chunks={'time': 1},\n",
    "                                         concat_dim='time',\n",
    "                                         preprocess=preprocess_mf)"
   ]
  },
  {
   "cell_type": "code",
   "execution_count": 43,
   "metadata": {},
   "outputs": [],
   "source": [
    "comp = client.compute(_full_dataset)"
   ]
  },
  {
   "cell_type": "code",
   "execution_count": 37,
   "metadata": {},
   "outputs": [
    {
     "ename": "KeyboardInterrupt",
     "evalue": "",
     "output_type": "error",
     "traceback": [
      "\u001b[0;31m---------------------------------------------------------------------------\u001b[0m",
      "\u001b[0;31mKeyboardInterrupt\u001b[0m                         Traceback (most recent call last)",
      "\u001b[0;32m<ipython-input-37-54a3e89bc893>\u001b[0m in \u001b[0;36m<module>\u001b[0;34m\u001b[0m\n\u001b[0;32m----> 1\u001b[0;31m \u001b[0m_full_dataset\u001b[0m\u001b[0;34m.\u001b[0m\u001b[0mwhere\u001b[0m\u001b[0;34m(\u001b[0m\u001b[0m_full_dataset\u001b[0m\u001b[0;34m[\u001b[0m\u001b[0;34m'eff_lat'\u001b[0m\u001b[0;34m]\u001b[0m \u001b[0;34m!=\u001b[0m\u001b[0;36m0\u001b[0m\u001b[0;34m)\u001b[0m\u001b[0;34m.\u001b[0m\u001b[0mcompute\u001b[0m\u001b[0;34m(\u001b[0m\u001b[0;34m)\u001b[0m\u001b[0;34m\u001b[0m\u001b[0;34m\u001b[0m\u001b[0m\n\u001b[0m",
      "\u001b[0;32m~/.conda/envs/jetstream/lib/python3.6/site-packages/xarray/core/dataset.py\u001b[0m in \u001b[0;36mcompute\u001b[0;34m(self, **kwargs)\u001b[0m\n\u001b[1;32m    951\u001b[0m         \"\"\"\n\u001b[1;32m    952\u001b[0m         \u001b[0mnew\u001b[0m \u001b[0;34m=\u001b[0m \u001b[0mself\u001b[0m\u001b[0;34m.\u001b[0m\u001b[0mcopy\u001b[0m\u001b[0;34m(\u001b[0m\u001b[0mdeep\u001b[0m\u001b[0;34m=\u001b[0m\u001b[0;32mFalse\u001b[0m\u001b[0;34m)\u001b[0m\u001b[0;34m\u001b[0m\u001b[0;34m\u001b[0m\u001b[0m\n\u001b[0;32m--> 953\u001b[0;31m         \u001b[0;32mreturn\u001b[0m \u001b[0mnew\u001b[0m\u001b[0;34m.\u001b[0m\u001b[0mload\u001b[0m\u001b[0;34m(\u001b[0m\u001b[0;34m**\u001b[0m\u001b[0mkwargs\u001b[0m\u001b[0;34m)\u001b[0m\u001b[0;34m\u001b[0m\u001b[0;34m\u001b[0m\u001b[0m\n\u001b[0m\u001b[1;32m    954\u001b[0m \u001b[0;34m\u001b[0m\u001b[0m\n\u001b[1;32m    955\u001b[0m     \u001b[0;32mdef\u001b[0m \u001b[0m_persist_inplace\u001b[0m\u001b[0;34m(\u001b[0m\u001b[0mself\u001b[0m\u001b[0;34m,\u001b[0m \u001b[0;34m**\u001b[0m\u001b[0mkwargs\u001b[0m\u001b[0;34m)\u001b[0m \u001b[0;34m->\u001b[0m \u001b[0;34m\"Dataset\"\u001b[0m\u001b[0;34m:\u001b[0m\u001b[0;34m\u001b[0m\u001b[0;34m\u001b[0m\u001b[0m\n",
      "\u001b[0;32m~/.conda/envs/jetstream/lib/python3.6/site-packages/xarray/core/dataset.py\u001b[0m in \u001b[0;36mload\u001b[0;34m(self, **kwargs)\u001b[0m\n\u001b[1;32m    796\u001b[0m \u001b[0;34m\u001b[0m\u001b[0m\n\u001b[1;32m    797\u001b[0m             \u001b[0;31m# evaluate all the dask arrays simultaneously\u001b[0m\u001b[0;34m\u001b[0m\u001b[0;34m\u001b[0m\u001b[0;34m\u001b[0m\u001b[0m\n\u001b[0;32m--> 798\u001b[0;31m             \u001b[0mevaluated_data\u001b[0m \u001b[0;34m=\u001b[0m \u001b[0mda\u001b[0m\u001b[0;34m.\u001b[0m\u001b[0mcompute\u001b[0m\u001b[0;34m(\u001b[0m\u001b[0;34m*\u001b[0m\u001b[0mlazy_data\u001b[0m\u001b[0;34m.\u001b[0m\u001b[0mvalues\u001b[0m\u001b[0;34m(\u001b[0m\u001b[0;34m)\u001b[0m\u001b[0;34m,\u001b[0m \u001b[0;34m**\u001b[0m\u001b[0mkwargs\u001b[0m\u001b[0;34m)\u001b[0m\u001b[0;34m\u001b[0m\u001b[0;34m\u001b[0m\u001b[0m\n\u001b[0m\u001b[1;32m    799\u001b[0m \u001b[0;34m\u001b[0m\u001b[0m\n\u001b[1;32m    800\u001b[0m             \u001b[0;32mfor\u001b[0m \u001b[0mk\u001b[0m\u001b[0;34m,\u001b[0m \u001b[0mdata\u001b[0m \u001b[0;32min\u001b[0m \u001b[0mzip\u001b[0m\u001b[0;34m(\u001b[0m\u001b[0mlazy_data\u001b[0m\u001b[0;34m,\u001b[0m \u001b[0mevaluated_data\u001b[0m\u001b[0;34m)\u001b[0m\u001b[0;34m:\u001b[0m\u001b[0;34m\u001b[0m\u001b[0;34m\u001b[0m\u001b[0m\n",
      "\u001b[0;32m~/.conda/envs/jetstream/lib/python3.6/site-packages/dask/base.py\u001b[0m in \u001b[0;36mcompute\u001b[0;34m(*args, **kwargs)\u001b[0m\n\u001b[1;32m    434\u001b[0m     \u001b[0mkeys\u001b[0m \u001b[0;34m=\u001b[0m \u001b[0;34m[\u001b[0m\u001b[0mx\u001b[0m\u001b[0;34m.\u001b[0m\u001b[0m__dask_keys__\u001b[0m\u001b[0;34m(\u001b[0m\u001b[0;34m)\u001b[0m \u001b[0;32mfor\u001b[0m \u001b[0mx\u001b[0m \u001b[0;32min\u001b[0m \u001b[0mcollections\u001b[0m\u001b[0;34m]\u001b[0m\u001b[0;34m\u001b[0m\u001b[0;34m\u001b[0m\u001b[0m\n\u001b[1;32m    435\u001b[0m     \u001b[0mpostcomputes\u001b[0m \u001b[0;34m=\u001b[0m \u001b[0;34m[\u001b[0m\u001b[0mx\u001b[0m\u001b[0;34m.\u001b[0m\u001b[0m__dask_postcompute__\u001b[0m\u001b[0;34m(\u001b[0m\u001b[0;34m)\u001b[0m \u001b[0;32mfor\u001b[0m \u001b[0mx\u001b[0m \u001b[0;32min\u001b[0m \u001b[0mcollections\u001b[0m\u001b[0;34m]\u001b[0m\u001b[0;34m\u001b[0m\u001b[0;34m\u001b[0m\u001b[0m\n\u001b[0;32m--> 436\u001b[0;31m     \u001b[0mresults\u001b[0m \u001b[0;34m=\u001b[0m \u001b[0mschedule\u001b[0m\u001b[0;34m(\u001b[0m\u001b[0mdsk\u001b[0m\u001b[0;34m,\u001b[0m \u001b[0mkeys\u001b[0m\u001b[0;34m,\u001b[0m \u001b[0;34m**\u001b[0m\u001b[0mkwargs\u001b[0m\u001b[0;34m)\u001b[0m\u001b[0;34m\u001b[0m\u001b[0;34m\u001b[0m\u001b[0m\n\u001b[0m\u001b[1;32m    437\u001b[0m     \u001b[0;32mreturn\u001b[0m \u001b[0mrepack\u001b[0m\u001b[0;34m(\u001b[0m\u001b[0;34m[\u001b[0m\u001b[0mf\u001b[0m\u001b[0;34m(\u001b[0m\u001b[0mr\u001b[0m\u001b[0;34m,\u001b[0m \u001b[0;34m*\u001b[0m\u001b[0ma\u001b[0m\u001b[0;34m)\u001b[0m \u001b[0;32mfor\u001b[0m \u001b[0mr\u001b[0m\u001b[0;34m,\u001b[0m \u001b[0;34m(\u001b[0m\u001b[0mf\u001b[0m\u001b[0;34m,\u001b[0m \u001b[0ma\u001b[0m\u001b[0;34m)\u001b[0m \u001b[0;32min\u001b[0m \u001b[0mzip\u001b[0m\u001b[0;34m(\u001b[0m\u001b[0mresults\u001b[0m\u001b[0;34m,\u001b[0m \u001b[0mpostcomputes\u001b[0m\u001b[0;34m)\u001b[0m\u001b[0;34m]\u001b[0m\u001b[0;34m)\u001b[0m\u001b[0;34m\u001b[0m\u001b[0;34m\u001b[0m\u001b[0m\n\u001b[1;32m    438\u001b[0m \u001b[0;34m\u001b[0m\u001b[0m\n",
      "\u001b[0;32m~/.conda/envs/jetstream/lib/python3.6/site-packages/distributed/client.py\u001b[0m in \u001b[0;36mget\u001b[0;34m(self, dsk, keys, restrictions, loose_restrictions, resources, sync, asynchronous, direct, retries, priority, fifo_timeout, actors, **kwargs)\u001b[0m\n\u001b[1;32m   2723\u001b[0m                     \u001b[0mshould_rejoin\u001b[0m \u001b[0;34m=\u001b[0m \u001b[0;32mFalse\u001b[0m\u001b[0;34m\u001b[0m\u001b[0;34m\u001b[0m\u001b[0m\n\u001b[1;32m   2724\u001b[0m             \u001b[0;32mtry\u001b[0m\u001b[0;34m:\u001b[0m\u001b[0;34m\u001b[0m\u001b[0;34m\u001b[0m\u001b[0m\n\u001b[0;32m-> 2725\u001b[0;31m                 \u001b[0mresults\u001b[0m \u001b[0;34m=\u001b[0m \u001b[0mself\u001b[0m\u001b[0;34m.\u001b[0m\u001b[0mgather\u001b[0m\u001b[0;34m(\u001b[0m\u001b[0mpacked\u001b[0m\u001b[0;34m,\u001b[0m \u001b[0masynchronous\u001b[0m\u001b[0;34m=\u001b[0m\u001b[0masynchronous\u001b[0m\u001b[0;34m,\u001b[0m \u001b[0mdirect\u001b[0m\u001b[0;34m=\u001b[0m\u001b[0mdirect\u001b[0m\u001b[0;34m)\u001b[0m\u001b[0;34m\u001b[0m\u001b[0;34m\u001b[0m\u001b[0m\n\u001b[0m\u001b[1;32m   2726\u001b[0m             \u001b[0;32mfinally\u001b[0m\u001b[0;34m:\u001b[0m\u001b[0;34m\u001b[0m\u001b[0;34m\u001b[0m\u001b[0m\n\u001b[1;32m   2727\u001b[0m                 \u001b[0;32mfor\u001b[0m \u001b[0mf\u001b[0m \u001b[0;32min\u001b[0m \u001b[0mfutures\u001b[0m\u001b[0;34m.\u001b[0m\u001b[0mvalues\u001b[0m\u001b[0;34m(\u001b[0m\u001b[0;34m)\u001b[0m\u001b[0;34m:\u001b[0m\u001b[0;34m\u001b[0m\u001b[0;34m\u001b[0m\u001b[0m\n",
      "\u001b[0;32m~/.conda/envs/jetstream/lib/python3.6/site-packages/distributed/client.py\u001b[0m in \u001b[0;36mgather\u001b[0;34m(self, futures, errors, direct, asynchronous)\u001b[0m\n\u001b[1;32m   1990\u001b[0m                 \u001b[0mdirect\u001b[0m\u001b[0;34m=\u001b[0m\u001b[0mdirect\u001b[0m\u001b[0;34m,\u001b[0m\u001b[0;34m\u001b[0m\u001b[0;34m\u001b[0m\u001b[0m\n\u001b[1;32m   1991\u001b[0m                 \u001b[0mlocal_worker\u001b[0m\u001b[0;34m=\u001b[0m\u001b[0mlocal_worker\u001b[0m\u001b[0;34m,\u001b[0m\u001b[0;34m\u001b[0m\u001b[0;34m\u001b[0m\u001b[0m\n\u001b[0;32m-> 1992\u001b[0;31m                 \u001b[0masynchronous\u001b[0m\u001b[0;34m=\u001b[0m\u001b[0masynchronous\u001b[0m\u001b[0;34m,\u001b[0m\u001b[0;34m\u001b[0m\u001b[0;34m\u001b[0m\u001b[0m\n\u001b[0m\u001b[1;32m   1993\u001b[0m             )\n\u001b[1;32m   1994\u001b[0m \u001b[0;34m\u001b[0m\u001b[0m\n",
      "\u001b[0;32m~/.conda/envs/jetstream/lib/python3.6/site-packages/distributed/client.py\u001b[0m in \u001b[0;36msync\u001b[0;34m(self, func, asynchronous, callback_timeout, *args, **kwargs)\u001b[0m\n\u001b[1;32m    831\u001b[0m         \u001b[0;32melse\u001b[0m\u001b[0;34m:\u001b[0m\u001b[0;34m\u001b[0m\u001b[0;34m\u001b[0m\u001b[0m\n\u001b[1;32m    832\u001b[0m             return sync(\n\u001b[0;32m--> 833\u001b[0;31m                 \u001b[0mself\u001b[0m\u001b[0;34m.\u001b[0m\u001b[0mloop\u001b[0m\u001b[0;34m,\u001b[0m \u001b[0mfunc\u001b[0m\u001b[0;34m,\u001b[0m \u001b[0;34m*\u001b[0m\u001b[0margs\u001b[0m\u001b[0;34m,\u001b[0m \u001b[0mcallback_timeout\u001b[0m\u001b[0;34m=\u001b[0m\u001b[0mcallback_timeout\u001b[0m\u001b[0;34m,\u001b[0m \u001b[0;34m**\u001b[0m\u001b[0mkwargs\u001b[0m\u001b[0;34m\u001b[0m\u001b[0;34m\u001b[0m\u001b[0m\n\u001b[0m\u001b[1;32m    834\u001b[0m             )\n\u001b[1;32m    835\u001b[0m \u001b[0;34m\u001b[0m\u001b[0m\n",
      "\u001b[0;32m~/.conda/envs/jetstream/lib/python3.6/site-packages/distributed/utils.py\u001b[0m in \u001b[0;36msync\u001b[0;34m(loop, func, callback_timeout, *args, **kwargs)\u001b[0m\n\u001b[1;32m    335\u001b[0m     \u001b[0;32melse\u001b[0m\u001b[0;34m:\u001b[0m\u001b[0;34m\u001b[0m\u001b[0;34m\u001b[0m\u001b[0m\n\u001b[1;32m    336\u001b[0m         \u001b[0;32mwhile\u001b[0m \u001b[0;32mnot\u001b[0m \u001b[0me\u001b[0m\u001b[0;34m.\u001b[0m\u001b[0mis_set\u001b[0m\u001b[0;34m(\u001b[0m\u001b[0;34m)\u001b[0m\u001b[0;34m:\u001b[0m\u001b[0;34m\u001b[0m\u001b[0;34m\u001b[0m\u001b[0m\n\u001b[0;32m--> 337\u001b[0;31m             \u001b[0me\u001b[0m\u001b[0;34m.\u001b[0m\u001b[0mwait\u001b[0m\u001b[0;34m(\u001b[0m\u001b[0;36m10\u001b[0m\u001b[0;34m)\u001b[0m\u001b[0;34m\u001b[0m\u001b[0;34m\u001b[0m\u001b[0m\n\u001b[0m\u001b[1;32m    338\u001b[0m     \u001b[0;32mif\u001b[0m \u001b[0merror\u001b[0m\u001b[0;34m[\u001b[0m\u001b[0;36m0\u001b[0m\u001b[0;34m]\u001b[0m\u001b[0;34m:\u001b[0m\u001b[0;34m\u001b[0m\u001b[0;34m\u001b[0m\u001b[0m\n\u001b[1;32m    339\u001b[0m         \u001b[0mtyp\u001b[0m\u001b[0;34m,\u001b[0m \u001b[0mexc\u001b[0m\u001b[0;34m,\u001b[0m \u001b[0mtb\u001b[0m \u001b[0;34m=\u001b[0m \u001b[0merror\u001b[0m\u001b[0;34m[\u001b[0m\u001b[0;36m0\u001b[0m\u001b[0;34m]\u001b[0m\u001b[0;34m\u001b[0m\u001b[0;34m\u001b[0m\u001b[0m\n",
      "\u001b[0;32m~/.conda/envs/jetstream/lib/python3.6/threading.py\u001b[0m in \u001b[0;36mwait\u001b[0;34m(self, timeout)\u001b[0m\n\u001b[1;32m    549\u001b[0m             \u001b[0msignaled\u001b[0m \u001b[0;34m=\u001b[0m \u001b[0mself\u001b[0m\u001b[0;34m.\u001b[0m\u001b[0m_flag\u001b[0m\u001b[0;34m\u001b[0m\u001b[0;34m\u001b[0m\u001b[0m\n\u001b[1;32m    550\u001b[0m             \u001b[0;32mif\u001b[0m \u001b[0;32mnot\u001b[0m \u001b[0msignaled\u001b[0m\u001b[0;34m:\u001b[0m\u001b[0;34m\u001b[0m\u001b[0;34m\u001b[0m\u001b[0m\n\u001b[0;32m--> 551\u001b[0;31m                 \u001b[0msignaled\u001b[0m \u001b[0;34m=\u001b[0m \u001b[0mself\u001b[0m\u001b[0;34m.\u001b[0m\u001b[0m_cond\u001b[0m\u001b[0;34m.\u001b[0m\u001b[0mwait\u001b[0m\u001b[0;34m(\u001b[0m\u001b[0mtimeout\u001b[0m\u001b[0;34m)\u001b[0m\u001b[0;34m\u001b[0m\u001b[0;34m\u001b[0m\u001b[0m\n\u001b[0m\u001b[1;32m    552\u001b[0m             \u001b[0;32mreturn\u001b[0m \u001b[0msignaled\u001b[0m\u001b[0;34m\u001b[0m\u001b[0;34m\u001b[0m\u001b[0m\n\u001b[1;32m    553\u001b[0m \u001b[0;34m\u001b[0m\u001b[0m\n",
      "\u001b[0;32m~/.conda/envs/jetstream/lib/python3.6/threading.py\u001b[0m in \u001b[0;36mwait\u001b[0;34m(self, timeout)\u001b[0m\n\u001b[1;32m    297\u001b[0m             \u001b[0;32melse\u001b[0m\u001b[0;34m:\u001b[0m\u001b[0;34m\u001b[0m\u001b[0;34m\u001b[0m\u001b[0m\n\u001b[1;32m    298\u001b[0m                 \u001b[0;32mif\u001b[0m \u001b[0mtimeout\u001b[0m \u001b[0;34m>\u001b[0m \u001b[0;36m0\u001b[0m\u001b[0;34m:\u001b[0m\u001b[0;34m\u001b[0m\u001b[0;34m\u001b[0m\u001b[0m\n\u001b[0;32m--> 299\u001b[0;31m                     \u001b[0mgotit\u001b[0m \u001b[0;34m=\u001b[0m \u001b[0mwaiter\u001b[0m\u001b[0;34m.\u001b[0m\u001b[0macquire\u001b[0m\u001b[0;34m(\u001b[0m\u001b[0;32mTrue\u001b[0m\u001b[0;34m,\u001b[0m \u001b[0mtimeout\u001b[0m\u001b[0;34m)\u001b[0m\u001b[0;34m\u001b[0m\u001b[0;34m\u001b[0m\u001b[0m\n\u001b[0m\u001b[1;32m    300\u001b[0m                 \u001b[0;32melse\u001b[0m\u001b[0;34m:\u001b[0m\u001b[0;34m\u001b[0m\u001b[0;34m\u001b[0m\u001b[0m\n\u001b[1;32m    301\u001b[0m                     \u001b[0mgotit\u001b[0m \u001b[0;34m=\u001b[0m \u001b[0mwaiter\u001b[0m\u001b[0;34m.\u001b[0m\u001b[0macquire\u001b[0m\u001b[0;34m(\u001b[0m\u001b[0;32mFalse\u001b[0m\u001b[0;34m)\u001b[0m\u001b[0;34m\u001b[0m\u001b[0;34m\u001b[0m\u001b[0m\n",
      "\u001b[0;31mKeyboardInterrupt\u001b[0m: "
     ]
    }
   ],
   "source": [
    "_full_dataset.where(_full_dataset['eff_lat'] !=0).compute()"
   ]
  },
  {
   "cell_type": "code",
   "execution_count": 52,
   "metadata": {},
   "outputs": [
    {
     "data": {
      "text/plain": [
       "array([ 0.70710678,  0.        ,         nan,  0.        ,  0.70710678,\n",
       "       -0.70710678,  0.70710678])"
      ]
     },
     "execution_count": 52,
     "metadata": {},
     "output_type": "execute_result"
    }
   ],
   "source": [
    "from scipy.stats import skew\n",
    "import numpy as np\n",
    "skew([[0,1,1,1,1,3,4],[0,3,np.nan,3,4,2,5],[5,5,5,2,1,3,4]])"
   ]
  },
  {
   "cell_type": "code",
   "execution_count": 12,
   "metadata": {},
   "outputs": [
    {
     "name": "stdout",
     "output_type": "stream",
     "text": [
      "<xarray.Dataset>\n",
      "Dimensions:  (lat: 280, lon: 1440, time: 90)\n",
      "Coordinates:\n",
      "    expver   int32 1\n",
      "  * lat      (lat) float32 90.0 89.75 89.5 89.25 89.0 ... 21.0 20.75 20.5 20.25\n",
      "  * lon      (lon) float32 -180.0 -179.75 -179.5 -179.25 ... 179.25 179.5 179.75\n",
      "  * time     (time) datetime64[ns] 1979-12-01 1979-12-02 ... 1980-02-28\n",
      "Data variables:\n",
      "    t_ref    (time, lat, lon) float64 dask.array<chunksize=(1, 280, 1440), meta=np.ndarray>\n",
      "    t2m      (time, lat, lon) float32 dask.array<chunksize=(1, 280, 1440), meta=np.ndarray>\n",
      "    t_prime  (time, lat, lon) float64 dask.array<chunksize=(1, 280, 1440), meta=np.ndarray>\n",
      "<xarray.Dataset>\n",
      "Dimensions:  (lat: 280, lon: 1440, time: 180)\n",
      "Coordinates:\n",
      "    expver   int32 1\n",
      "  * lat      (lat) float32 90.0 89.75 89.5 89.25 89.0 ... 21.0 20.75 20.5 20.25\n",
      "  * lon      (lon) float32 -180.0 -179.75 -179.5 -179.25 ... 179.25 179.5 179.75\n",
      "  * time     (time) datetime64[ns] 1979-12-01 1979-12-02 ... 1981-02-28\n",
      "Data variables:\n",
      "    t_ref    (time, lat, lon) float64 dask.array<chunksize=(1, 280, 1440), meta=np.ndarray>\n",
      "    t2m      (time, lat, lon) float32 dask.array<chunksize=(1, 280, 1440), meta=np.ndarray>\n",
      "    t_prime  (time, lat, lon) float64 dask.array<chunksize=(1, 280, 1440), meta=np.ndarray>\n",
      "<xarray.Dataset>\n",
      "Dimensions:  (lat: 280, lon: 1440, time: 270)\n",
      "Coordinates:\n",
      "    expver   int32 1\n",
      "  * lat      (lat) float32 90.0 89.75 89.5 89.25 89.0 ... 21.0 20.75 20.5 20.25\n",
      "  * lon      (lon) float32 -180.0 -179.75 -179.5 -179.25 ... 179.25 179.5 179.75\n",
      "  * time     (time) datetime64[ns] 1979-12-01 1979-12-02 ... 1982-02-28\n",
      "Data variables:\n",
      "    t_ref    (time, lat, lon) float64 dask.array<chunksize=(1, 280, 1440), meta=np.ndarray>\n",
      "    t2m      (time, lat, lon) float32 dask.array<chunksize=(1, 280, 1440), meta=np.ndarray>\n",
      "    t_prime  (time, lat, lon) float64 dask.array<chunksize=(1, 280, 1440), meta=np.ndarray>\n",
      "<xarray.Dataset>\n",
      "Dimensions:  (lat: 280, lon: 1440, time: 360)\n",
      "Coordinates:\n",
      "    expver   int32 1\n",
      "  * lat      (lat) float32 90.0 89.75 89.5 89.25 89.0 ... 21.0 20.75 20.5 20.25\n",
      "  * lon      (lon) float32 -180.0 -179.75 -179.5 -179.25 ... 179.25 179.5 179.75\n",
      "  * time     (time) datetime64[ns] 1979-12-01 1979-12-02 ... 1983-02-28\n",
      "Data variables:\n",
      "    t_ref    (time, lat, lon) float64 dask.array<chunksize=(1, 280, 1440), meta=np.ndarray>\n",
      "    t2m      (time, lat, lon) float32 dask.array<chunksize=(1, 280, 1440), meta=np.ndarray>\n",
      "    t_prime  (time, lat, lon) float64 dask.array<chunksize=(1, 280, 1440), meta=np.ndarray>\n",
      "<xarray.Dataset>\n",
      "Dimensions:  (lat: 280, lon: 1440, time: 450)\n",
      "Coordinates:\n",
      "    expver   int32 1\n",
      "  * lat      (lat) float32 90.0 89.75 89.5 89.25 89.0 ... 21.0 20.75 20.5 20.25\n",
      "  * lon      (lon) float32 -180.0 -179.75 -179.5 -179.25 ... 179.25 179.5 179.75\n",
      "  * time     (time) datetime64[ns] 1979-12-01 1979-12-02 ... 1984-02-28\n",
      "Data variables:\n",
      "    t_ref    (time, lat, lon) float64 dask.array<chunksize=(1, 280, 1440), meta=np.ndarray>\n",
      "    t2m      (time, lat, lon) float32 dask.array<chunksize=(1, 280, 1440), meta=np.ndarray>\n",
      "    t_prime  (time, lat, lon) float64 dask.array<chunksize=(1, 280, 1440), meta=np.ndarray>\n",
      "<xarray.Dataset>\n",
      "Dimensions:  (lat: 280, lon: 1440, time: 540)\n",
      "Coordinates:\n",
      "    expver   int32 1\n",
      "  * lat      (lat) float32 90.0 89.75 89.5 89.25 89.0 ... 21.0 20.75 20.5 20.25\n",
      "  * lon      (lon) float32 -180.0 -179.75 -179.5 -179.25 ... 179.25 179.5 179.75\n",
      "  * time     (time) datetime64[ns] 1979-12-01 1979-12-02 ... 1985-02-28\n",
      "Data variables:\n",
      "    t_ref    (time, lat, lon) float64 dask.array<chunksize=(1, 280, 1440), meta=np.ndarray>\n",
      "    t2m      (time, lat, lon) float32 dask.array<chunksize=(1, 280, 1440), meta=np.ndarray>\n",
      "    t_prime  (time, lat, lon) float64 dask.array<chunksize=(1, 280, 1440), meta=np.ndarray>\n",
      "<xarray.Dataset>\n",
      "Dimensions:  (lat: 280, lon: 1440, time: 630)\n",
      "Coordinates:\n",
      "    expver   int32 1\n",
      "  * lat      (lat) float32 90.0 89.75 89.5 89.25 89.0 ... 21.0 20.75 20.5 20.25\n",
      "  * lon      (lon) float32 -180.0 -179.75 -179.5 -179.25 ... 179.25 179.5 179.75\n",
      "  * time     (time) datetime64[ns] 1979-12-01 1979-12-02 ... 1986-02-28\n",
      "Data variables:\n",
      "    t_ref    (time, lat, lon) float64 dask.array<chunksize=(1, 280, 1440), meta=np.ndarray>\n",
      "    t2m      (time, lat, lon) float32 dask.array<chunksize=(1, 280, 1440), meta=np.ndarray>\n",
      "    t_prime  (time, lat, lon) float64 dask.array<chunksize=(1, 280, 1440), meta=np.ndarray>\n",
      "<xarray.Dataset>\n",
      "Dimensions:  (lat: 280, lon: 1440, time: 720)\n",
      "Coordinates:\n",
      "    expver   int32 1\n",
      "  * lat      (lat) float32 90.0 89.75 89.5 89.25 89.0 ... 21.0 20.75 20.5 20.25\n",
      "  * lon      (lon) float32 -180.0 -179.75 -179.5 -179.25 ... 179.25 179.5 179.75\n",
      "  * time     (time) datetime64[ns] 1979-12-01 1979-12-02 ... 1987-02-28\n",
      "Data variables:\n",
      "    t_ref    (time, lat, lon) float64 dask.array<chunksize=(1, 280, 1440), meta=np.ndarray>\n",
      "    t2m      (time, lat, lon) float32 dask.array<chunksize=(1, 280, 1440), meta=np.ndarray>\n",
      "    t_prime  (time, lat, lon) float64 dask.array<chunksize=(1, 280, 1440), meta=np.ndarray>\n",
      "<xarray.Dataset>\n",
      "Dimensions:  (lat: 280, lon: 1440, time: 810)\n",
      "Coordinates:\n",
      "    expver   int32 1\n",
      "  * lat      (lat) float32 90.0 89.75 89.5 89.25 89.0 ... 21.0 20.75 20.5 20.25\n",
      "  * lon      (lon) float32 -180.0 -179.75 -179.5 -179.25 ... 179.25 179.5 179.75\n",
      "  * time     (time) datetime64[ns] 1979-12-01 1979-12-02 ... 1988-02-28\n",
      "Data variables:\n",
      "    t_ref    (time, lat, lon) float64 dask.array<chunksize=(1, 280, 1440), meta=np.ndarray>\n",
      "    t2m      (time, lat, lon) float32 dask.array<chunksize=(1, 280, 1440), meta=np.ndarray>\n",
      "    t_prime  (time, lat, lon) float64 dask.array<chunksize=(1, 280, 1440), meta=np.ndarray>\n",
      "<xarray.Dataset>\n",
      "Dimensions:  (lat: 280, lon: 1440, time: 900)\n",
      "Coordinates:\n",
      "    expver   int32 1\n",
      "  * lat      (lat) float32 90.0 89.75 89.5 89.25 89.0 ... 21.0 20.75 20.5 20.25\n",
      "  * lon      (lon) float32 -180.0 -179.75 -179.5 -179.25 ... 179.25 179.5 179.75\n",
      "  * time     (time) datetime64[ns] 1979-12-01 1979-12-02 ... 1989-02-28\n",
      "Data variables:\n",
      "    t_ref    (time, lat, lon) float64 dask.array<chunksize=(1, 280, 1440), meta=np.ndarray>\n",
      "    t2m      (time, lat, lon) float32 dask.array<chunksize=(1, 280, 1440), meta=np.ndarray>\n",
      "    t_prime  (time, lat, lon) float64 dask.array<chunksize=(1, 280, 1440), meta=np.ndarray>\n",
      "<xarray.Dataset>\n",
      "Dimensions:  (lat: 280, lon: 1440, time: 990)\n",
      "Coordinates:\n",
      "    expver   int32 1\n",
      "  * lat      (lat) float32 90.0 89.75 89.5 89.25 89.0 ... 21.0 20.75 20.5 20.25\n",
      "  * lon      (lon) float32 -180.0 -179.75 -179.5 -179.25 ... 179.25 179.5 179.75\n",
      "  * time     (time) datetime64[ns] 1979-12-01 1979-12-02 ... 1990-02-28\n",
      "Data variables:\n",
      "    t_ref    (time, lat, lon) float64 dask.array<chunksize=(1, 280, 1440), meta=np.ndarray>\n",
      "    t2m      (time, lat, lon) float32 dask.array<chunksize=(1, 280, 1440), meta=np.ndarray>\n",
      "    t_prime  (time, lat, lon) float64 dask.array<chunksize=(1, 280, 1440), meta=np.ndarray>\n",
      "<xarray.Dataset>\n",
      "Dimensions:  (lat: 280, lon: 1440, time: 1080)\n",
      "Coordinates:\n",
      "    expver   int32 1\n",
      "  * lat      (lat) float32 90.0 89.75 89.5 89.25 89.0 ... 21.0 20.75 20.5 20.25\n",
      "  * lon      (lon) float32 -180.0 -179.75 -179.5 -179.25 ... 179.25 179.5 179.75\n",
      "  * time     (time) datetime64[ns] 1979-12-01 1979-12-02 ... 1991-02-28\n",
      "Data variables:\n",
      "    t_ref    (time, lat, lon) float64 dask.array<chunksize=(1, 280, 1440), meta=np.ndarray>\n",
      "    t2m      (time, lat, lon) float32 dask.array<chunksize=(1, 280, 1440), meta=np.ndarray>\n",
      "    t_prime  (time, lat, lon) float64 dask.array<chunksize=(1, 280, 1440), meta=np.ndarray>\n",
      "<xarray.Dataset>\n",
      "Dimensions:  (lat: 280, lon: 1440, time: 1170)\n",
      "Coordinates:\n",
      "    expver   int32 1\n",
      "  * lat      (lat) float32 90.0 89.75 89.5 89.25 89.0 ... 21.0 20.75 20.5 20.25\n",
      "  * lon      (lon) float32 -180.0 -179.75 -179.5 -179.25 ... 179.25 179.5 179.75\n",
      "  * time     (time) datetime64[ns] 1979-12-01 1979-12-02 ... 1992-02-28\n",
      "Data variables:\n",
      "    t_ref    (time, lat, lon) float64 dask.array<chunksize=(1, 280, 1440), meta=np.ndarray>\n",
      "    t2m      (time, lat, lon) float32 dask.array<chunksize=(1, 280, 1440), meta=np.ndarray>\n",
      "    t_prime  (time, lat, lon) float64 dask.array<chunksize=(1, 280, 1440), meta=np.ndarray>\n",
      "<xarray.Dataset>\n",
      "Dimensions:  (lat: 280, lon: 1440, time: 1260)\n",
      "Coordinates:\n",
      "    expver   int32 1\n",
      "  * lat      (lat) float32 90.0 89.75 89.5 89.25 89.0 ... 21.0 20.75 20.5 20.25\n",
      "  * lon      (lon) float32 -180.0 -179.75 -179.5 -179.25 ... 179.25 179.5 179.75\n",
      "  * time     (time) datetime64[ns] 1979-12-01 1979-12-02 ... 1993-02-28\n",
      "Data variables:\n",
      "    t_ref    (time, lat, lon) float64 dask.array<chunksize=(1, 280, 1440), meta=np.ndarray>\n",
      "    t2m      (time, lat, lon) float32 dask.array<chunksize=(1, 280, 1440), meta=np.ndarray>\n",
      "    t_prime  (time, lat, lon) float64 dask.array<chunksize=(1, 280, 1440), meta=np.ndarray>\n"
     ]
    },
    {
     "name": "stdout",
     "output_type": "stream",
     "text": [
      "<xarray.Dataset>\n",
      "Dimensions:  (lat: 280, lon: 1440, time: 1350)\n",
      "Coordinates:\n",
      "    expver   int32 1\n",
      "  * lat      (lat) float32 90.0 89.75 89.5 89.25 89.0 ... 21.0 20.75 20.5 20.25\n",
      "  * lon      (lon) float32 -180.0 -179.75 -179.5 -179.25 ... 179.25 179.5 179.75\n",
      "  * time     (time) datetime64[ns] 1979-12-01 1979-12-02 ... 1994-02-28\n",
      "Data variables:\n",
      "    t_ref    (time, lat, lon) float64 dask.array<chunksize=(1, 280, 1440), meta=np.ndarray>\n",
      "    t2m      (time, lat, lon) float32 dask.array<chunksize=(1, 280, 1440), meta=np.ndarray>\n",
      "    t_prime  (time, lat, lon) float64 dask.array<chunksize=(1, 280, 1440), meta=np.ndarray>\n",
      "<xarray.Dataset>\n",
      "Dimensions:  (lat: 280, lon: 1440, time: 1440)\n",
      "Coordinates:\n",
      "    expver   int32 1\n",
      "  * lat      (lat) float32 90.0 89.75 89.5 89.25 89.0 ... 21.0 20.75 20.5 20.25\n",
      "  * lon      (lon) float32 -180.0 -179.75 -179.5 -179.25 ... 179.25 179.5 179.75\n",
      "  * time     (time) datetime64[ns] 1979-12-01 1979-12-02 ... 1995-02-28\n",
      "Data variables:\n",
      "    t_ref    (time, lat, lon) float64 dask.array<chunksize=(1, 280, 1440), meta=np.ndarray>\n",
      "    t2m      (time, lat, lon) float32 dask.array<chunksize=(1, 280, 1440), meta=np.ndarray>\n",
      "    t_prime  (time, lat, lon) float64 dask.array<chunksize=(1, 280, 1440), meta=np.ndarray>\n",
      "<xarray.Dataset>\n",
      "Dimensions:  (lat: 280, lon: 1440, time: 1530)\n",
      "Coordinates:\n",
      "    expver   int32 1\n",
      "  * lat      (lat) float32 90.0 89.75 89.5 89.25 89.0 ... 21.0 20.75 20.5 20.25\n",
      "  * lon      (lon) float32 -180.0 -179.75 -179.5 -179.25 ... 179.25 179.5 179.75\n",
      "  * time     (time) datetime64[ns] 1979-12-01 1979-12-02 ... 1996-02-28\n",
      "Data variables:\n",
      "    t_ref    (time, lat, lon) float64 dask.array<chunksize=(1, 280, 1440), meta=np.ndarray>\n",
      "    t2m      (time, lat, lon) float32 dask.array<chunksize=(1, 280, 1440), meta=np.ndarray>\n",
      "    t_prime  (time, lat, lon) float64 dask.array<chunksize=(1, 280, 1440), meta=np.ndarray>\n",
      "<xarray.Dataset>\n",
      "Dimensions:  (lat: 280, lon: 1440, time: 1620)\n",
      "Coordinates:\n",
      "    expver   int32 1\n",
      "  * lat      (lat) float32 90.0 89.75 89.5 89.25 89.0 ... 21.0 20.75 20.5 20.25\n",
      "  * lon      (lon) float32 -180.0 -179.75 -179.5 -179.25 ... 179.25 179.5 179.75\n",
      "  * time     (time) datetime64[ns] 1979-12-01 1979-12-02 ... 1997-02-28\n",
      "Data variables:\n",
      "    t_ref    (time, lat, lon) float64 dask.array<chunksize=(1, 280, 1440), meta=np.ndarray>\n",
      "    t2m      (time, lat, lon) float32 dask.array<chunksize=(1, 280, 1440), meta=np.ndarray>\n",
      "    t_prime  (time, lat, lon) float64 dask.array<chunksize=(1, 280, 1440), meta=np.ndarray>\n",
      "<xarray.Dataset>\n",
      "Dimensions:  (lat: 280, lon: 1440, time: 1710)\n",
      "Coordinates:\n",
      "    expver   int32 1\n",
      "  * lat      (lat) float32 90.0 89.75 89.5 89.25 89.0 ... 21.0 20.75 20.5 20.25\n",
      "  * lon      (lon) float32 -180.0 -179.75 -179.5 -179.25 ... 179.25 179.5 179.75\n",
      "  * time     (time) datetime64[ns] 1979-12-01 1979-12-02 ... 1998-02-28\n",
      "Data variables:\n",
      "    t_ref    (time, lat, lon) float64 dask.array<chunksize=(1, 280, 1440), meta=np.ndarray>\n",
      "    t2m      (time, lat, lon) float32 dask.array<chunksize=(1, 280, 1440), meta=np.ndarray>\n",
      "    t_prime  (time, lat, lon) float64 dask.array<chunksize=(1, 280, 1440), meta=np.ndarray>\n",
      "<xarray.Dataset>\n",
      "Dimensions:  (lat: 280, lon: 1440, time: 1800)\n",
      "Coordinates:\n",
      "    expver   int32 1\n",
      "  * lat      (lat) float32 90.0 89.75 89.5 89.25 89.0 ... 21.0 20.75 20.5 20.25\n",
      "  * lon      (lon) float32 -180.0 -179.75 -179.5 -179.25 ... 179.25 179.5 179.75\n",
      "  * time     (time) datetime64[ns] 1979-12-01 1979-12-02 ... 1999-02-28\n",
      "Data variables:\n",
      "    t_ref    (time, lat, lon) float64 dask.array<chunksize=(1, 280, 1440), meta=np.ndarray>\n",
      "    t2m      (time, lat, lon) float32 dask.array<chunksize=(1, 280, 1440), meta=np.ndarray>\n",
      "    t_prime  (time, lat, lon) float64 dask.array<chunksize=(1, 280, 1440), meta=np.ndarray>\n"
     ]
    },
    {
     "ename": "KeyError",
     "evalue": "\"not all values found in index 'time'\"",
     "output_type": "error",
     "traceback": [
      "\u001b[0;31m---------------------------------------------------------------------------\u001b[0m",
      "\u001b[0;31mKeyError\u001b[0m                                  Traceback (most recent call last)",
      "\u001b[0;32m<ipython-input-12-3f0fb30d450b>\u001b[0m in \u001b[0;36m<module>\u001b[0;34m\u001b[0m\n\u001b[1;32m     10\u001b[0m     \u001b[0mselected\u001b[0m \u001b[0;34m=\u001b[0m \u001b[0mdata\u001b[0m\u001b[0;34m.\u001b[0m\u001b[0msel\u001b[0m\u001b[0;34m(\u001b[0m\u001b[0mtime\u001b[0m\u001b[0;34m=\u001b[0m\u001b[0mwinters\u001b[0m\u001b[0;34m)\u001b[0m\u001b[0;34m\u001b[0m\u001b[0;34m\u001b[0m\u001b[0m\n\u001b[1;32m     11\u001b[0m     \u001b[0;32mreturn\u001b[0m \u001b[0mselected\u001b[0m\u001b[0;34m\u001b[0m\u001b[0;34m\u001b[0m\u001b[0m\n\u001b[0;32m---> 12\u001b[0;31m \u001b[0msel_winters\u001b[0m\u001b[0;34m(\u001b[0m\u001b[0mds\u001b[0m\u001b[0;34m,\u001b[0m\u001b[0;34m*\u001b[0m\u001b[0myear_range\u001b[0m\u001b[0;34m)\u001b[0m\u001b[0;34m\u001b[0m\u001b[0;34m\u001b[0m\u001b[0m\n\u001b[0m",
      "\u001b[0;32m<ipython-input-12-3f0fb30d450b>\u001b[0m in \u001b[0;36msel_winters\u001b[0;34m(data, start_year, end_year)\u001b[0m\n\u001b[1;32m      7\u001b[0m         \u001b[0mend\u001b[0m \u001b[0;34m=\u001b[0m \u001b[0mi\u001b[0m\u001b[0;34m+\u001b[0m\u001b[0;36m1\u001b[0m\u001b[0;34m\u001b[0m\u001b[0;34m\u001b[0m\u001b[0m\n\u001b[1;32m      8\u001b[0m         \u001b[0mwinters\u001b[0m\u001b[0;34m=\u001b[0m\u001b[0mwinters\u001b[0m\u001b[0;34m.\u001b[0m\u001b[0munion\u001b[0m\u001b[0;34m(\u001b[0m\u001b[0mpd\u001b[0m\u001b[0;34m.\u001b[0m\u001b[0mdate_range\u001b[0m\u001b[0;34m(\u001b[0m\u001b[0;34m'%i-12-01'\u001b[0m\u001b[0;34m%\u001b[0m\u001b[0mbegin\u001b[0m\u001b[0;34m,\u001b[0m\u001b[0;34m'%i-02-28'\u001b[0m\u001b[0;34m%\u001b[0m\u001b[0mend\u001b[0m\u001b[0;34m,\u001b[0m\u001b[0mfreq\u001b[0m\u001b[0;34m=\u001b[0m\u001b[0;34m'D'\u001b[0m\u001b[0;34m)\u001b[0m\u001b[0;34m)\u001b[0m\u001b[0;34m\u001b[0m\u001b[0;34m\u001b[0m\u001b[0m\n\u001b[0;32m----> 9\u001b[0;31m         \u001b[0mprint\u001b[0m\u001b[0;34m(\u001b[0m\u001b[0mdata\u001b[0m\u001b[0;34m.\u001b[0m\u001b[0msel\u001b[0m\u001b[0;34m(\u001b[0m\u001b[0mtime\u001b[0m\u001b[0;34m=\u001b[0m\u001b[0mwinters\u001b[0m\u001b[0;34m)\u001b[0m\u001b[0;34m)\u001b[0m\u001b[0;34m\u001b[0m\u001b[0;34m\u001b[0m\u001b[0m\n\u001b[0m\u001b[1;32m     10\u001b[0m     \u001b[0mselected\u001b[0m \u001b[0;34m=\u001b[0m \u001b[0mdata\u001b[0m\u001b[0;34m.\u001b[0m\u001b[0msel\u001b[0m\u001b[0;34m(\u001b[0m\u001b[0mtime\u001b[0m\u001b[0;34m=\u001b[0m\u001b[0mwinters\u001b[0m\u001b[0;34m)\u001b[0m\u001b[0;34m\u001b[0m\u001b[0;34m\u001b[0m\u001b[0m\n\u001b[1;32m     11\u001b[0m     \u001b[0;32mreturn\u001b[0m \u001b[0mselected\u001b[0m\u001b[0;34m\u001b[0m\u001b[0;34m\u001b[0m\u001b[0m\n",
      "\u001b[0;32m~/.conda/envs/jetstream/lib/python3.6/site-packages/xarray/core/dataset.py\u001b[0m in \u001b[0;36msel\u001b[0;34m(self, indexers, method, tolerance, drop, **indexers_kwargs)\u001b[0m\n\u001b[1;32m   2012\u001b[0m         \u001b[0mindexers\u001b[0m \u001b[0;34m=\u001b[0m \u001b[0meither_dict_or_kwargs\u001b[0m\u001b[0;34m(\u001b[0m\u001b[0mindexers\u001b[0m\u001b[0;34m,\u001b[0m \u001b[0mindexers_kwargs\u001b[0m\u001b[0;34m,\u001b[0m \u001b[0;34m\"sel\"\u001b[0m\u001b[0;34m)\u001b[0m\u001b[0;34m\u001b[0m\u001b[0;34m\u001b[0m\u001b[0m\n\u001b[1;32m   2013\u001b[0m         pos_indexers, new_indexes = remap_label_indexers(\n\u001b[0;32m-> 2014\u001b[0;31m             \u001b[0mself\u001b[0m\u001b[0;34m,\u001b[0m \u001b[0mindexers\u001b[0m\u001b[0;34m=\u001b[0m\u001b[0mindexers\u001b[0m\u001b[0;34m,\u001b[0m \u001b[0mmethod\u001b[0m\u001b[0;34m=\u001b[0m\u001b[0mmethod\u001b[0m\u001b[0;34m,\u001b[0m \u001b[0mtolerance\u001b[0m\u001b[0;34m=\u001b[0m\u001b[0mtolerance\u001b[0m\u001b[0;34m\u001b[0m\u001b[0;34m\u001b[0m\u001b[0m\n\u001b[0m\u001b[1;32m   2015\u001b[0m         )\n\u001b[1;32m   2016\u001b[0m         \u001b[0mresult\u001b[0m \u001b[0;34m=\u001b[0m \u001b[0mself\u001b[0m\u001b[0;34m.\u001b[0m\u001b[0misel\u001b[0m\u001b[0;34m(\u001b[0m\u001b[0mindexers\u001b[0m\u001b[0;34m=\u001b[0m\u001b[0mpos_indexers\u001b[0m\u001b[0;34m,\u001b[0m \u001b[0mdrop\u001b[0m\u001b[0;34m=\u001b[0m\u001b[0mdrop\u001b[0m\u001b[0;34m)\u001b[0m\u001b[0;34m\u001b[0m\u001b[0;34m\u001b[0m\u001b[0m\n",
      "\u001b[0;32m~/.conda/envs/jetstream/lib/python3.6/site-packages/xarray/core/coordinates.py\u001b[0m in \u001b[0;36mremap_label_indexers\u001b[0;34m(obj, indexers, method, tolerance, **indexers_kwargs)\u001b[0m\n\u001b[1;32m    390\u001b[0m \u001b[0;34m\u001b[0m\u001b[0m\n\u001b[1;32m    391\u001b[0m     pos_indexers, new_indexes = indexing.remap_label_indexers(\n\u001b[0;32m--> 392\u001b[0;31m         \u001b[0mobj\u001b[0m\u001b[0;34m,\u001b[0m \u001b[0mv_indexers\u001b[0m\u001b[0;34m,\u001b[0m \u001b[0mmethod\u001b[0m\u001b[0;34m=\u001b[0m\u001b[0mmethod\u001b[0m\u001b[0;34m,\u001b[0m \u001b[0mtolerance\u001b[0m\u001b[0;34m=\u001b[0m\u001b[0mtolerance\u001b[0m\u001b[0;34m\u001b[0m\u001b[0;34m\u001b[0m\u001b[0m\n\u001b[0m\u001b[1;32m    393\u001b[0m     )\n\u001b[1;32m    394\u001b[0m     \u001b[0;31m# attach indexer's coordinate to pos_indexers\u001b[0m\u001b[0;34m\u001b[0m\u001b[0;34m\u001b[0m\u001b[0;34m\u001b[0m\u001b[0m\n",
      "\u001b[0;32m~/.conda/envs/jetstream/lib/python3.6/site-packages/xarray/core/indexing.py\u001b[0m in \u001b[0;36mremap_label_indexers\u001b[0;34m(data_obj, indexers, method, tolerance)\u001b[0m\n\u001b[1;32m    258\u001b[0m             \u001b[0mcoords_dtype\u001b[0m \u001b[0;34m=\u001b[0m \u001b[0mdata_obj\u001b[0m\u001b[0;34m.\u001b[0m\u001b[0mcoords\u001b[0m\u001b[0;34m[\u001b[0m\u001b[0mdim\u001b[0m\u001b[0;34m]\u001b[0m\u001b[0;34m.\u001b[0m\u001b[0mdtype\u001b[0m\u001b[0;34m\u001b[0m\u001b[0;34m\u001b[0m\u001b[0m\n\u001b[1;32m    259\u001b[0m             \u001b[0mlabel\u001b[0m \u001b[0;34m=\u001b[0m \u001b[0mmaybe_cast_to_coords_dtype\u001b[0m\u001b[0;34m(\u001b[0m\u001b[0mlabel\u001b[0m\u001b[0;34m,\u001b[0m \u001b[0mcoords_dtype\u001b[0m\u001b[0;34m)\u001b[0m\u001b[0;34m\u001b[0m\u001b[0;34m\u001b[0m\u001b[0m\n\u001b[0;32m--> 260\u001b[0;31m             \u001b[0midxr\u001b[0m\u001b[0;34m,\u001b[0m \u001b[0mnew_idx\u001b[0m \u001b[0;34m=\u001b[0m \u001b[0mconvert_label_indexer\u001b[0m\u001b[0;34m(\u001b[0m\u001b[0mindex\u001b[0m\u001b[0;34m,\u001b[0m \u001b[0mlabel\u001b[0m\u001b[0;34m,\u001b[0m \u001b[0mdim\u001b[0m\u001b[0;34m,\u001b[0m \u001b[0mmethod\u001b[0m\u001b[0;34m,\u001b[0m \u001b[0mtolerance\u001b[0m\u001b[0;34m)\u001b[0m\u001b[0;34m\u001b[0m\u001b[0;34m\u001b[0m\u001b[0m\n\u001b[0m\u001b[1;32m    261\u001b[0m             \u001b[0mpos_indexers\u001b[0m\u001b[0;34m[\u001b[0m\u001b[0mdim\u001b[0m\u001b[0;34m]\u001b[0m \u001b[0;34m=\u001b[0m \u001b[0midxr\u001b[0m\u001b[0;34m\u001b[0m\u001b[0;34m\u001b[0m\u001b[0m\n\u001b[1;32m    262\u001b[0m             \u001b[0;32mif\u001b[0m \u001b[0mnew_idx\u001b[0m \u001b[0;32mis\u001b[0m \u001b[0;32mnot\u001b[0m \u001b[0;32mNone\u001b[0m\u001b[0;34m:\u001b[0m\u001b[0;34m\u001b[0m\u001b[0;34m\u001b[0m\u001b[0m\n",
      "\u001b[0;32m~/.conda/envs/jetstream/lib/python3.6/site-packages/xarray/core/indexing.py\u001b[0m in \u001b[0;36mconvert_label_indexer\u001b[0;34m(index, label, index_name, method, tolerance)\u001b[0m\n\u001b[1;32m    190\u001b[0m             \u001b[0mindexer\u001b[0m \u001b[0;34m=\u001b[0m \u001b[0mget_indexer_nd\u001b[0m\u001b[0;34m(\u001b[0m\u001b[0mindex\u001b[0m\u001b[0;34m,\u001b[0m \u001b[0mlabel\u001b[0m\u001b[0;34m,\u001b[0m \u001b[0mmethod\u001b[0m\u001b[0;34m,\u001b[0m \u001b[0mtolerance\u001b[0m\u001b[0;34m)\u001b[0m\u001b[0;34m\u001b[0m\u001b[0;34m\u001b[0m\u001b[0m\n\u001b[1;32m    191\u001b[0m             \u001b[0;32mif\u001b[0m \u001b[0mnp\u001b[0m\u001b[0;34m.\u001b[0m\u001b[0many\u001b[0m\u001b[0;34m(\u001b[0m\u001b[0mindexer\u001b[0m \u001b[0;34m<\u001b[0m \u001b[0;36m0\u001b[0m\u001b[0;34m)\u001b[0m\u001b[0;34m:\u001b[0m\u001b[0;34m\u001b[0m\u001b[0;34m\u001b[0m\u001b[0m\n\u001b[0;32m--> 192\u001b[0;31m                 \u001b[0;32mraise\u001b[0m \u001b[0mKeyError\u001b[0m\u001b[0;34m(\u001b[0m\u001b[0;34mf\"not all values found in index {index_name!r}\"\u001b[0m\u001b[0;34m)\u001b[0m\u001b[0;34m\u001b[0m\u001b[0;34m\u001b[0m\u001b[0m\n\u001b[0m\u001b[1;32m    193\u001b[0m     \u001b[0;32mreturn\u001b[0m \u001b[0mindexer\u001b[0m\u001b[0;34m,\u001b[0m \u001b[0mnew_index\u001b[0m\u001b[0;34m\u001b[0m\u001b[0;34m\u001b[0m\u001b[0m\n\u001b[1;32m    194\u001b[0m \u001b[0;34m\u001b[0m\u001b[0m\n",
      "\u001b[0;31mKeyError\u001b[0m: \"not all values found in index 'time'\""
     ]
    }
   ],
   "source": [
    "import pandas as pd\n",
    "def sel_winters(data,start_year=2015,end_year=2100):\n",
    "    winters = pd.date_range('%i-12-01'%start_year,'%i-02-28'%(start_year+1),freq='D')\n",
    "    print(data.sel(time=winters))\n",
    "    for i in range(start_year+1,end_year):\n",
    "        begin = i \n",
    "        end = i+1 \n",
    "        winters=winters.union(pd.date_range('%i-12-01'%begin,'%i-02-28'%end,freq='D'))\n",
    "        print(data.sel(time=winters))\n",
    "    selected = data.sel(time=winters)\n",
    "    return selected\n",
    "sel_winters(ds,*year_range)"
   ]
  },
  {
   "cell_type": "code",
   "execution_count": 54,
   "metadata": {},
   "outputs": [
    {
     "data": {
      "text/html": [
       "<pre>&lt;xarray.DataArray &#x27;time&#x27; (time: 90)&gt;\n",
       "array([&#x27;1999-01-01T00:00:00.000000000&#x27;, &#x27;1999-01-02T00:00:00.000000000&#x27;,\n",
       "       &#x27;1999-01-03T00:00:00.000000000&#x27;, &#x27;1999-01-04T00:00:00.000000000&#x27;,\n",
       "       &#x27;1999-01-05T00:00:00.000000000&#x27;, &#x27;1999-01-06T00:00:00.000000000&#x27;,\n",
       "       &#x27;1999-01-07T00:00:00.000000000&#x27;, &#x27;1999-01-08T00:00:00.000000000&#x27;,\n",
       "       &#x27;1999-01-09T00:00:00.000000000&#x27;, &#x27;1999-01-10T00:00:00.000000000&#x27;,\n",
       "       &#x27;1999-01-11T00:00:00.000000000&#x27;, &#x27;1999-01-12T00:00:00.000000000&#x27;,\n",
       "       &#x27;1999-01-13T00:00:00.000000000&#x27;, &#x27;1999-01-14T00:00:00.000000000&#x27;,\n",
       "       &#x27;1999-01-15T00:00:00.000000000&#x27;, &#x27;1999-01-16T00:00:00.000000000&#x27;,\n",
       "       &#x27;1999-01-17T00:00:00.000000000&#x27;, &#x27;1999-01-18T00:00:00.000000000&#x27;,\n",
       "       &#x27;1999-01-19T00:00:00.000000000&#x27;, &#x27;1999-01-20T00:00:00.000000000&#x27;,\n",
       "       &#x27;1999-01-21T00:00:00.000000000&#x27;, &#x27;1999-01-22T00:00:00.000000000&#x27;,\n",
       "       &#x27;1999-01-23T00:00:00.000000000&#x27;, &#x27;1999-01-24T00:00:00.000000000&#x27;,\n",
       "       &#x27;1999-01-25T00:00:00.000000000&#x27;, &#x27;1999-01-26T00:00:00.000000000&#x27;,\n",
       "       &#x27;1999-01-27T00:00:00.000000000&#x27;, &#x27;1999-01-28T00:00:00.000000000&#x27;,\n",
       "       &#x27;1999-01-29T00:00:00.000000000&#x27;, &#x27;1999-01-30T00:00:00.000000000&#x27;,\n",
       "       &#x27;1999-01-31T00:00:00.000000000&#x27;, &#x27;1999-02-01T00:00:00.000000000&#x27;,\n",
       "       &#x27;1999-02-02T00:00:00.000000000&#x27;, &#x27;1999-02-03T00:00:00.000000000&#x27;,\n",
       "       &#x27;1999-02-04T00:00:00.000000000&#x27;, &#x27;1999-02-05T00:00:00.000000000&#x27;,\n",
       "       &#x27;1999-02-06T00:00:00.000000000&#x27;, &#x27;1999-02-07T00:00:00.000000000&#x27;,\n",
       "       &#x27;1999-02-08T00:00:00.000000000&#x27;, &#x27;1999-02-09T00:00:00.000000000&#x27;,\n",
       "       &#x27;1999-02-10T00:00:00.000000000&#x27;, &#x27;1999-02-11T00:00:00.000000000&#x27;,\n",
       "       &#x27;1999-02-12T00:00:00.000000000&#x27;, &#x27;1999-02-13T00:00:00.000000000&#x27;,\n",
       "       &#x27;1999-02-14T00:00:00.000000000&#x27;, &#x27;1999-02-15T00:00:00.000000000&#x27;,\n",
       "       &#x27;1999-02-16T00:00:00.000000000&#x27;, &#x27;1999-02-17T00:00:00.000000000&#x27;,\n",
       "       &#x27;1999-02-18T00:00:00.000000000&#x27;, &#x27;1999-02-19T00:00:00.000000000&#x27;,\n",
       "       &#x27;1999-02-20T00:00:00.000000000&#x27;, &#x27;1999-02-21T00:00:00.000000000&#x27;,\n",
       "       &#x27;1999-02-22T00:00:00.000000000&#x27;, &#x27;1999-02-23T00:00:00.000000000&#x27;,\n",
       "       &#x27;1999-02-24T00:00:00.000000000&#x27;, &#x27;1999-02-25T00:00:00.000000000&#x27;,\n",
       "       &#x27;1999-02-26T00:00:00.000000000&#x27;, &#x27;1999-02-27T00:00:00.000000000&#x27;,\n",
       "       &#x27;1999-02-28T00:00:00.000000000&#x27;, &#x27;1999-12-01T00:00:00.000000000&#x27;,\n",
       "       &#x27;1999-12-02T00:00:00.000000000&#x27;, &#x27;1999-12-03T00:00:00.000000000&#x27;,\n",
       "       &#x27;1999-12-04T00:00:00.000000000&#x27;, &#x27;1999-12-05T00:00:00.000000000&#x27;,\n",
       "       &#x27;1999-12-06T00:00:00.000000000&#x27;, &#x27;1999-12-07T00:00:00.000000000&#x27;,\n",
       "       &#x27;1999-12-08T00:00:00.000000000&#x27;, &#x27;1999-12-09T00:00:00.000000000&#x27;,\n",
       "       &#x27;1999-12-10T00:00:00.000000000&#x27;, &#x27;1999-12-11T00:00:00.000000000&#x27;,\n",
       "       &#x27;1999-12-12T00:00:00.000000000&#x27;, &#x27;1999-12-13T00:00:00.000000000&#x27;,\n",
       "       &#x27;1999-12-14T00:00:00.000000000&#x27;, &#x27;1999-12-15T00:00:00.000000000&#x27;,\n",
       "       &#x27;1999-12-16T00:00:00.000000000&#x27;, &#x27;1999-12-17T00:00:00.000000000&#x27;,\n",
       "       &#x27;1999-12-18T00:00:00.000000000&#x27;, &#x27;1999-12-19T00:00:00.000000000&#x27;,\n",
       "       &#x27;1999-12-20T00:00:00.000000000&#x27;, &#x27;1999-12-21T00:00:00.000000000&#x27;,\n",
       "       &#x27;1999-12-22T00:00:00.000000000&#x27;, &#x27;1999-12-23T00:00:00.000000000&#x27;,\n",
       "       &#x27;1999-12-24T00:00:00.000000000&#x27;, &#x27;1999-12-25T00:00:00.000000000&#x27;,\n",
       "       &#x27;1999-12-26T00:00:00.000000000&#x27;, &#x27;1999-12-27T00:00:00.000000000&#x27;,\n",
       "       &#x27;1999-12-28T00:00:00.000000000&#x27;, &#x27;1999-12-29T00:00:00.000000000&#x27;,\n",
       "       &#x27;1999-12-30T00:00:00.000000000&#x27;, &#x27;1999-12-31T00:00:00.000000000&#x27;],\n",
       "      dtype=&#x27;datetime64[ns]&#x27;)\n",
       "Coordinates:\n",
       "    expver   int32 1\n",
       "  * time     (time) datetime64[ns] 1999-01-01 1999-01-02 ... 1999-12-31</pre>"
      ],
      "text/plain": [
       "<xarray.DataArray 'time' (time: 90)>\n",
       "array(['1999-01-01T00:00:00.000000000', '1999-01-02T00:00:00.000000000',\n",
       "       '1999-01-03T00:00:00.000000000', '1999-01-04T00:00:00.000000000',\n",
       "       '1999-01-05T00:00:00.000000000', '1999-01-06T00:00:00.000000000',\n",
       "       '1999-01-07T00:00:00.000000000', '1999-01-08T00:00:00.000000000',\n",
       "       '1999-01-09T00:00:00.000000000', '1999-01-10T00:00:00.000000000',\n",
       "       '1999-01-11T00:00:00.000000000', '1999-01-12T00:00:00.000000000',\n",
       "       '1999-01-13T00:00:00.000000000', '1999-01-14T00:00:00.000000000',\n",
       "       '1999-01-15T00:00:00.000000000', '1999-01-16T00:00:00.000000000',\n",
       "       '1999-01-17T00:00:00.000000000', '1999-01-18T00:00:00.000000000',\n",
       "       '1999-01-19T00:00:00.000000000', '1999-01-20T00:00:00.000000000',\n",
       "       '1999-01-21T00:00:00.000000000', '1999-01-22T00:00:00.000000000',\n",
       "       '1999-01-23T00:00:00.000000000', '1999-01-24T00:00:00.000000000',\n",
       "       '1999-01-25T00:00:00.000000000', '1999-01-26T00:00:00.000000000',\n",
       "       '1999-01-27T00:00:00.000000000', '1999-01-28T00:00:00.000000000',\n",
       "       '1999-01-29T00:00:00.000000000', '1999-01-30T00:00:00.000000000',\n",
       "       '1999-01-31T00:00:00.000000000', '1999-02-01T00:00:00.000000000',\n",
       "       '1999-02-02T00:00:00.000000000', '1999-02-03T00:00:00.000000000',\n",
       "       '1999-02-04T00:00:00.000000000', '1999-02-05T00:00:00.000000000',\n",
       "       '1999-02-06T00:00:00.000000000', '1999-02-07T00:00:00.000000000',\n",
       "       '1999-02-08T00:00:00.000000000', '1999-02-09T00:00:00.000000000',\n",
       "       '1999-02-10T00:00:00.000000000', '1999-02-11T00:00:00.000000000',\n",
       "       '1999-02-12T00:00:00.000000000', '1999-02-13T00:00:00.000000000',\n",
       "       '1999-02-14T00:00:00.000000000', '1999-02-15T00:00:00.000000000',\n",
       "       '1999-02-16T00:00:00.000000000', '1999-02-17T00:00:00.000000000',\n",
       "       '1999-02-18T00:00:00.000000000', '1999-02-19T00:00:00.000000000',\n",
       "       '1999-02-20T00:00:00.000000000', '1999-02-21T00:00:00.000000000',\n",
       "       '1999-02-22T00:00:00.000000000', '1999-02-23T00:00:00.000000000',\n",
       "       '1999-02-24T00:00:00.000000000', '1999-02-25T00:00:00.000000000',\n",
       "       '1999-02-26T00:00:00.000000000', '1999-02-27T00:00:00.000000000',\n",
       "       '1999-02-28T00:00:00.000000000', '1999-12-01T00:00:00.000000000',\n",
       "       '1999-12-02T00:00:00.000000000', '1999-12-03T00:00:00.000000000',\n",
       "       '1999-12-04T00:00:00.000000000', '1999-12-05T00:00:00.000000000',\n",
       "       '1999-12-06T00:00:00.000000000', '1999-12-07T00:00:00.000000000',\n",
       "       '1999-12-08T00:00:00.000000000', '1999-12-09T00:00:00.000000000',\n",
       "       '1999-12-10T00:00:00.000000000', '1999-12-11T00:00:00.000000000',\n",
       "       '1999-12-12T00:00:00.000000000', '1999-12-13T00:00:00.000000000',\n",
       "       '1999-12-14T00:00:00.000000000', '1999-12-15T00:00:00.000000000',\n",
       "       '1999-12-16T00:00:00.000000000', '1999-12-17T00:00:00.000000000',\n",
       "       '1999-12-18T00:00:00.000000000', '1999-12-19T00:00:00.000000000',\n",
       "       '1999-12-20T00:00:00.000000000', '1999-12-21T00:00:00.000000000',\n",
       "       '1999-12-22T00:00:00.000000000', '1999-12-23T00:00:00.000000000',\n",
       "       '1999-12-24T00:00:00.000000000', '1999-12-25T00:00:00.000000000',\n",
       "       '1999-12-26T00:00:00.000000000', '1999-12-27T00:00:00.000000000',\n",
       "       '1999-12-28T00:00:00.000000000', '1999-12-29T00:00:00.000000000',\n",
       "       '1999-12-30T00:00:00.000000000', '1999-12-31T00:00:00.000000000'],\n",
       "      dtype='datetime64[ns]')\n",
       "Coordinates:\n",
       "    expver   int32 1\n",
       "  * time     (time) datetime64[ns] 1999-01-01 1999-01-02 ... 1999-12-31"
      ]
     },
     "execution_count": 54,
     "metadata": {},
     "output_type": "execute_result"
    }
   ],
   "source": [
    "ds.time[ds.time.dt.year==1999]"
   ]
  },
  {
   "cell_type": "code",
   "execution_count": 28,
   "metadata": {},
   "outputs": [
    {
     "name": "stdout",
     "output_type": "stream",
     "text": [
      "ds_1950_1979_lat_20_1D_rename\n",
      "era5_1950_1979\n",
      "1950-12-01 00:00:00 1975-02-28 00:00:00\n",
      "<xarray.DataArray 'time' (time: 2256)>\n",
      "array(['1950-12-01T00:00:00.000000000', '1950-12-02T00:00:00.000000000',\n",
      "       '1950-12-03T00:00:00.000000000', ..., '1975-02-26T00:00:00.000000000',\n",
      "       '1975-02-27T00:00:00.000000000', '1975-02-28T00:00:00.000000000'],\n",
      "      dtype='datetime64[ns]')\n",
      "Coordinates:\n",
      "  * time     (time) datetime64[ns] 1950-12-01 1950-12-02 ... 1975-02-28\n",
      "ds_1979_2021_lat_20_1D_renamed\n",
      "era5_1979_2021\n",
      "1979-12-01 00:00:00 2019-02-28 00:00:00\n",
      "<xarray.DataArray 'time' (time: 3519)>\n",
      "array(['1979-12-01T00:00:00.000000000', '1979-12-02T00:00:00.000000000',\n",
      "       '1979-12-03T00:00:00.000000000', ..., '2019-02-26T00:00:00.000000000',\n",
      "       '2019-02-27T00:00:00.000000000', '2019-02-28T00:00:00.000000000'],\n",
      "      dtype='datetime64[ns]')\n",
      "Coordinates:\n",
      "  * time     (time) datetime64[ns] 1979-12-01 1979-12-02 ... 2019-02-28\n"
     ]
    },
    {
     "ename": "KeyError",
     "evalue": "\"not all values found in index 'time'\"",
     "output_type": "error",
     "traceback": [
      "\u001b[0;31m---------------------------------------------------------------------------\u001b[0m",
      "\u001b[0;31mKeyError\u001b[0m                                  Traceback (most recent call last)",
      "\u001b[0;32m<ipython-input-28-a0c2ae398e88>\u001b[0m in \u001b[0;36m<module>\u001b[0;34m\u001b[0m\n\u001b[1;32m     10\u001b[0m          \u001b[0mshortname\u001b[0m\u001b[0;34m,\u001b[0m\u001b[0;34m\u001b[0m\u001b[0;34m\u001b[0m\u001b[0m\n\u001b[1;32m     11\u001b[0m          \u001b[0mpath_postproc\u001b[0m\u001b[0;34m,\u001b[0m\u001b[0;34m\u001b[0m\u001b[0;34m\u001b[0m\u001b[0m\n\u001b[0;32m---> 12\u001b[0;31m         var_of_interest)\n\u001b[0m",
      "\u001b[0;32m<ipython-input-5-d800c9ab874b>\u001b[0m in \u001b[0;36mmain\u001b[0;34m(path_processed, shortname, path_postproc, var_of_interest)\u001b[0m\n\u001b[1;32m     12\u001b[0m     \u001b[0;32melif\u001b[0m \u001b[0mvar_of_interest\u001b[0m \u001b[0;34m==\u001b[0m \u001b[0;34m'eff_lat'\u001b[0m\u001b[0;34m:\u001b[0m\u001b[0;34m\u001b[0m\u001b[0;34m\u001b[0m\u001b[0m\n\u001b[1;32m     13\u001b[0m         \u001b[0mfilename\u001b[0m\u001b[0;34m=\u001b[0m\u001b[0mpath_postproc\u001b[0m\u001b[0;34m+\u001b[0m\u001b[0;34mf'{shortname}_{var_of_interest}_demeaned_shifted.nc4'\u001b[0m\u001b[0;34m\u001b[0m\u001b[0;34m\u001b[0m\u001b[0m\n\u001b[0;32m---> 14\u001b[0;31m         single.demeaned_shift(single.dataset).rename(\n\u001b[0m\u001b[1;32m     15\u001b[0m             {var_of_interest: 'phi_eq_prime'\n\u001b[1;32m     16\u001b[0m             }).to_netcdf(filename)\n",
      "\u001b[0;32m~/.local/lib/python3.6/site-packages/descriptors.py\u001b[0m in \u001b[0;36m__get__\u001b[0;34m(self, instance, _type)\u001b[0m\n\u001b[1;32m     21\u001b[0m             \u001b[0;32mreturn\u001b[0m \u001b[0mself\u001b[0m\u001b[0;34m\u001b[0m\u001b[0;34m\u001b[0m\u001b[0m\n\u001b[1;32m     22\u001b[0m \u001b[0;34m\u001b[0m\u001b[0m\n\u001b[0;32m---> 23\u001b[0;31m         \u001b[0msetattr\u001b[0m\u001b[0;34m(\u001b[0m\u001b[0minstance\u001b[0m\u001b[0;34m,\u001b[0m \u001b[0mself\u001b[0m\u001b[0;34m.\u001b[0m\u001b[0m__func__\u001b[0m\u001b[0;34m.\u001b[0m\u001b[0m__name__\u001b[0m\u001b[0;34m,\u001b[0m \u001b[0mself\u001b[0m\u001b[0;34m.\u001b[0m\u001b[0m__func__\u001b[0m\u001b[0;34m(\u001b[0m\u001b[0minstance\u001b[0m\u001b[0;34m)\u001b[0m\u001b[0;34m)\u001b[0m\u001b[0;34m\u001b[0m\u001b[0;34m\u001b[0m\u001b[0m\n\u001b[0m\u001b[1;32m     24\u001b[0m \u001b[0;34m\u001b[0m\u001b[0m\n\u001b[1;32m     25\u001b[0m         \u001b[0;31m# This descriptor is now overridden for this instance:\u001b[0m\u001b[0;34m\u001b[0m\u001b[0;34m\u001b[0m\u001b[0;34m\u001b[0m\u001b[0m\n",
      "\u001b[0;32m~/proj/jet_streams/reanalysis_getter/jetstream/post_proc.py\u001b[0m in \u001b[0;36mdataset\u001b[0;34m(self)\u001b[0m\n\u001b[1;32m     68\u001b[0m             \u001b[0;32mexcept\u001b[0m \u001b[0mAttributeError\u001b[0m\u001b[0;34m:\u001b[0m\u001b[0;34m\u001b[0m\u001b[0;34m\u001b[0m\u001b[0m\n\u001b[1;32m     69\u001b[0m                \u001b[0m_full_dataset\u001b[0m\u001b[0;34m[\u001b[0m\u001b[0;34m'time'\u001b[0m\u001b[0;34m]\u001b[0m \u001b[0;34m=\u001b[0m \u001b[0m_full_dataset\u001b[0m\u001b[0;34m.\u001b[0m\u001b[0mindexes\u001b[0m\u001b[0;34m[\u001b[0m\u001b[0;34m'time'\u001b[0m\u001b[0;34m]\u001b[0m\u001b[0;34m.\u001b[0m\u001b[0mto_datetimeindex\u001b[0m\u001b[0;34m(\u001b[0m\u001b[0;34m)\u001b[0m\u001b[0;34m.\u001b[0m\u001b[0mnormalize\u001b[0m\u001b[0;34m(\u001b[0m\u001b[0;34m)\u001b[0m\u001b[0;34m\u001b[0m\u001b[0;34m\u001b[0m\u001b[0m\n\u001b[0;32m---> 70\u001b[0;31m             \u001b[0m_dataset\u001b[0m\u001b[0;34m=\u001b[0m\u001b[0mself\u001b[0m\u001b[0;34m.\u001b[0m\u001b[0msel_winters\u001b[0m\u001b[0;34m(\u001b[0m\u001b[0m_full_dataset\u001b[0m\u001b[0;34m,\u001b[0m\u001b[0;34m*\u001b[0m\u001b[0mself\u001b[0m\u001b[0;34m.\u001b[0m\u001b[0myear_range\u001b[0m\u001b[0;34m)\u001b[0m\u001b[0;34m\u001b[0m\u001b[0;34m\u001b[0m\u001b[0m\n\u001b[0m\u001b[1;32m     71\u001b[0m             \u001b[0;32mreturn\u001b[0m \u001b[0m_dataset\u001b[0m\u001b[0;34m\u001b[0m\u001b[0;34m\u001b[0m\u001b[0m\n\u001b[1;32m     72\u001b[0m         \u001b[0;32melif\u001b[0m \u001b[0mseason\u001b[0m \u001b[0;34m==\u001b[0m \u001b[0;34m'all'\u001b[0m\u001b[0;34m:\u001b[0m\u001b[0;34m\u001b[0m\u001b[0;34m\u001b[0m\u001b[0m\n",
      "\u001b[0;32m~/proj/jet_streams/reanalysis_getter/jetstream/post_proc.py\u001b[0m in \u001b[0;36msel_winters\u001b[0;34m(self, data, start_year, end_year)\u001b[0m\n\u001b[1;32m     42\u001b[0m         \u001b[0mprint\u001b[0m\u001b[0;34m(\u001b[0m\u001b[0mwinters\u001b[0m\u001b[0;34m[\u001b[0m\u001b[0;36m0\u001b[0m\u001b[0;34m]\u001b[0m\u001b[0;34m,\u001b[0m\u001b[0mwinters\u001b[0m\u001b[0;34m[\u001b[0m\u001b[0;34m-\u001b[0m\u001b[0;36m1\u001b[0m\u001b[0;34m]\u001b[0m\u001b[0;34m)\u001b[0m\u001b[0;34m\u001b[0m\u001b[0;34m\u001b[0m\u001b[0m\n\u001b[1;32m     43\u001b[0m         \u001b[0mprint\u001b[0m\u001b[0;34m(\u001b[0m\u001b[0mdata\u001b[0m\u001b[0;34m.\u001b[0m\u001b[0mtime\u001b[0m\u001b[0;34m)\u001b[0m\u001b[0;34m\u001b[0m\u001b[0;34m\u001b[0m\u001b[0m\n\u001b[0;32m---> 44\u001b[0;31m         \u001b[0mselected\u001b[0m \u001b[0;34m=\u001b[0m \u001b[0mdata\u001b[0m\u001b[0;34m.\u001b[0m\u001b[0msel\u001b[0m\u001b[0;34m(\u001b[0m\u001b[0mtime\u001b[0m\u001b[0;34m=\u001b[0m\u001b[0mwinters\u001b[0m\u001b[0;34m)\u001b[0m\u001b[0;34m\u001b[0m\u001b[0;34m\u001b[0m\u001b[0m\n\u001b[0m\u001b[1;32m     45\u001b[0m         \u001b[0;32mreturn\u001b[0m \u001b[0mselected\u001b[0m\u001b[0;34m\u001b[0m\u001b[0;34m\u001b[0m\u001b[0m\n\u001b[1;32m     46\u001b[0m \u001b[0;34m\u001b[0m\u001b[0m\n",
      "\u001b[0;32m~/.conda/envs/jetstream/lib/python3.6/site-packages/xarray/core/dataset.py\u001b[0m in \u001b[0;36msel\u001b[0;34m(self, indexers, method, tolerance, drop, **indexers_kwargs)\u001b[0m\n\u001b[1;32m   2012\u001b[0m         \u001b[0mindexers\u001b[0m \u001b[0;34m=\u001b[0m \u001b[0meither_dict_or_kwargs\u001b[0m\u001b[0;34m(\u001b[0m\u001b[0mindexers\u001b[0m\u001b[0;34m,\u001b[0m \u001b[0mindexers_kwargs\u001b[0m\u001b[0;34m,\u001b[0m \u001b[0;34m\"sel\"\u001b[0m\u001b[0;34m)\u001b[0m\u001b[0;34m\u001b[0m\u001b[0;34m\u001b[0m\u001b[0m\n\u001b[1;32m   2013\u001b[0m         pos_indexers, new_indexes = remap_label_indexers(\n\u001b[0;32m-> 2014\u001b[0;31m             \u001b[0mself\u001b[0m\u001b[0;34m,\u001b[0m \u001b[0mindexers\u001b[0m\u001b[0;34m=\u001b[0m\u001b[0mindexers\u001b[0m\u001b[0;34m,\u001b[0m \u001b[0mmethod\u001b[0m\u001b[0;34m=\u001b[0m\u001b[0mmethod\u001b[0m\u001b[0;34m,\u001b[0m \u001b[0mtolerance\u001b[0m\u001b[0;34m=\u001b[0m\u001b[0mtolerance\u001b[0m\u001b[0;34m\u001b[0m\u001b[0;34m\u001b[0m\u001b[0m\n\u001b[0m\u001b[1;32m   2015\u001b[0m         )\n\u001b[1;32m   2016\u001b[0m         \u001b[0mresult\u001b[0m \u001b[0;34m=\u001b[0m \u001b[0mself\u001b[0m\u001b[0;34m.\u001b[0m\u001b[0misel\u001b[0m\u001b[0;34m(\u001b[0m\u001b[0mindexers\u001b[0m\u001b[0;34m=\u001b[0m\u001b[0mpos_indexers\u001b[0m\u001b[0;34m,\u001b[0m \u001b[0mdrop\u001b[0m\u001b[0;34m=\u001b[0m\u001b[0mdrop\u001b[0m\u001b[0;34m)\u001b[0m\u001b[0;34m\u001b[0m\u001b[0;34m\u001b[0m\u001b[0m\n",
      "\u001b[0;32m~/.conda/envs/jetstream/lib/python3.6/site-packages/xarray/core/coordinates.py\u001b[0m in \u001b[0;36mremap_label_indexers\u001b[0;34m(obj, indexers, method, tolerance, **indexers_kwargs)\u001b[0m\n\u001b[1;32m    390\u001b[0m \u001b[0;34m\u001b[0m\u001b[0m\n\u001b[1;32m    391\u001b[0m     pos_indexers, new_indexes = indexing.remap_label_indexers(\n\u001b[0;32m--> 392\u001b[0;31m         \u001b[0mobj\u001b[0m\u001b[0;34m,\u001b[0m \u001b[0mv_indexers\u001b[0m\u001b[0;34m,\u001b[0m \u001b[0mmethod\u001b[0m\u001b[0;34m=\u001b[0m\u001b[0mmethod\u001b[0m\u001b[0;34m,\u001b[0m \u001b[0mtolerance\u001b[0m\u001b[0;34m=\u001b[0m\u001b[0mtolerance\u001b[0m\u001b[0;34m\u001b[0m\u001b[0;34m\u001b[0m\u001b[0m\n\u001b[0m\u001b[1;32m    393\u001b[0m     )\n\u001b[1;32m    394\u001b[0m     \u001b[0;31m# attach indexer's coordinate to pos_indexers\u001b[0m\u001b[0;34m\u001b[0m\u001b[0;34m\u001b[0m\u001b[0;34m\u001b[0m\u001b[0m\n",
      "\u001b[0;32m~/.conda/envs/jetstream/lib/python3.6/site-packages/xarray/core/indexing.py\u001b[0m in \u001b[0;36mremap_label_indexers\u001b[0;34m(data_obj, indexers, method, tolerance)\u001b[0m\n\u001b[1;32m    258\u001b[0m             \u001b[0mcoords_dtype\u001b[0m \u001b[0;34m=\u001b[0m \u001b[0mdata_obj\u001b[0m\u001b[0;34m.\u001b[0m\u001b[0mcoords\u001b[0m\u001b[0;34m[\u001b[0m\u001b[0mdim\u001b[0m\u001b[0;34m]\u001b[0m\u001b[0;34m.\u001b[0m\u001b[0mdtype\u001b[0m\u001b[0;34m\u001b[0m\u001b[0;34m\u001b[0m\u001b[0m\n\u001b[1;32m    259\u001b[0m             \u001b[0mlabel\u001b[0m \u001b[0;34m=\u001b[0m \u001b[0mmaybe_cast_to_coords_dtype\u001b[0m\u001b[0;34m(\u001b[0m\u001b[0mlabel\u001b[0m\u001b[0;34m,\u001b[0m \u001b[0mcoords_dtype\u001b[0m\u001b[0;34m)\u001b[0m\u001b[0;34m\u001b[0m\u001b[0;34m\u001b[0m\u001b[0m\n\u001b[0;32m--> 260\u001b[0;31m             \u001b[0midxr\u001b[0m\u001b[0;34m,\u001b[0m \u001b[0mnew_idx\u001b[0m \u001b[0;34m=\u001b[0m \u001b[0mconvert_label_indexer\u001b[0m\u001b[0;34m(\u001b[0m\u001b[0mindex\u001b[0m\u001b[0;34m,\u001b[0m \u001b[0mlabel\u001b[0m\u001b[0;34m,\u001b[0m \u001b[0mdim\u001b[0m\u001b[0;34m,\u001b[0m \u001b[0mmethod\u001b[0m\u001b[0;34m,\u001b[0m \u001b[0mtolerance\u001b[0m\u001b[0;34m)\u001b[0m\u001b[0;34m\u001b[0m\u001b[0;34m\u001b[0m\u001b[0m\n\u001b[0m\u001b[1;32m    261\u001b[0m             \u001b[0mpos_indexers\u001b[0m\u001b[0;34m[\u001b[0m\u001b[0mdim\u001b[0m\u001b[0;34m]\u001b[0m \u001b[0;34m=\u001b[0m \u001b[0midxr\u001b[0m\u001b[0;34m\u001b[0m\u001b[0;34m\u001b[0m\u001b[0m\n\u001b[1;32m    262\u001b[0m             \u001b[0;32mif\u001b[0m \u001b[0mnew_idx\u001b[0m \u001b[0;32mis\u001b[0m \u001b[0;32mnot\u001b[0m \u001b[0;32mNone\u001b[0m\u001b[0;34m:\u001b[0m\u001b[0;34m\u001b[0m\u001b[0;34m\u001b[0m\u001b[0m\n",
      "\u001b[0;32m~/.conda/envs/jetstream/lib/python3.6/site-packages/xarray/core/indexing.py\u001b[0m in \u001b[0;36mconvert_label_indexer\u001b[0;34m(index, label, index_name, method, tolerance)\u001b[0m\n\u001b[1;32m    190\u001b[0m             \u001b[0mindexer\u001b[0m \u001b[0;34m=\u001b[0m \u001b[0mget_indexer_nd\u001b[0m\u001b[0;34m(\u001b[0m\u001b[0mindex\u001b[0m\u001b[0;34m,\u001b[0m \u001b[0mlabel\u001b[0m\u001b[0;34m,\u001b[0m \u001b[0mmethod\u001b[0m\u001b[0;34m,\u001b[0m \u001b[0mtolerance\u001b[0m\u001b[0;34m)\u001b[0m\u001b[0;34m\u001b[0m\u001b[0;34m\u001b[0m\u001b[0m\n\u001b[1;32m    191\u001b[0m             \u001b[0;32mif\u001b[0m \u001b[0mnp\u001b[0m\u001b[0;34m.\u001b[0m\u001b[0many\u001b[0m\u001b[0;34m(\u001b[0m\u001b[0mindexer\u001b[0m \u001b[0;34m<\u001b[0m \u001b[0;36m0\u001b[0m\u001b[0;34m)\u001b[0m\u001b[0;34m:\u001b[0m\u001b[0;34m\u001b[0m\u001b[0;34m\u001b[0m\u001b[0m\n\u001b[0;32m--> 192\u001b[0;31m                 \u001b[0;32mraise\u001b[0m \u001b[0mKeyError\u001b[0m\u001b[0;34m(\u001b[0m\u001b[0;34mf\"not all values found in index {index_name!r}\"\u001b[0m\u001b[0;34m)\u001b[0m\u001b[0;34m\u001b[0m\u001b[0;34m\u001b[0m\u001b[0m\n\u001b[0m\u001b[1;32m    193\u001b[0m     \u001b[0;32mreturn\u001b[0m \u001b[0mindexer\u001b[0m\u001b[0;34m,\u001b[0m \u001b[0mnew_index\u001b[0m\u001b[0;34m\u001b[0m\u001b[0;34m\u001b[0m\u001b[0m\n\u001b[1;32m    194\u001b[0m \u001b[0;34m\u001b[0m\u001b[0m\n",
      "\u001b[0;31mKeyError\u001b[0m: \"not all values found in index 'time'\""
     ]
    }
   ],
   "source": [
    "var_of_interest = 'eff_lat'\n",
    "path_data = '/project2/moyer/jetstream/era5_processed_data/'\n",
    "path_postproc = '/scratch/midway2/afarah/jetstream/post_proc_output/' \n",
    "for model in [\"ds_1950_1979_lat_20_1D_rename\",\"ds_1979_2021_lat_20_1D_renamed\"]: #os.listdir(path_data):\n",
    "    print(model)\n",
    "    path_processed = f'{path_data}{model}/{model}_{var_of_interest}*.nc4'\n",
    "    shortname = 'era5'+model[2:12]\n",
    "    print(shortname)\n",
    "    main(path_processed,\n",
    "         shortname,\n",
    "         path_postproc,\n",
    "        var_of_interest)\n"
   ]
  },
  {
   "cell_type": "code",
   "execution_count": 5,
   "metadata": {},
   "outputs": [
    {
     "name": "stdout",
     "output_type": "stream",
     "text": [
      "MPI\n",
      "CESM2\n",
      "GFDL\n",
      "IPSL\n"
     ]
    }
   ],
   "source": [
    "var_of_interest = 't_prime'\n",
    "path_data = '/project2/moyer/jetsream/cmip6_processed_data/'\n",
    "path_postproc = '/scratch/midway2/afarah/jetstream/post_proc_output/' \n",
    "for model in os.listdir(path_data):\n",
    "    if model in ['MRI-ESM2-0_hist_tas_daily','UKESM1-0-LL_ssp585_tas_daily']:\n",
    "        continue\n",
    "    path_processed = f'{path_data}{model}/{model}_{var_of_interest}*11*.nc4'\n",
    "    shortname = model.split('-')[0]\n",
    "    print(shortname)\n",
    "    main(path_processed,\n",
    "         shortname,\n",
    "         path_postproc,\n",
    "        var_of_interest)"
   ]
  },
  {
   "cell_type": "code",
   "execution_count": 6,
   "metadata": {},
   "outputs": [
    {
     "name": "stdout",
     "output_type": "stream",
     "text": [
      "UKESM1\n"
     ]
    },
    {
     "ename": "ValueError",
     "evalue": "Cannot convert date 2016-02-30 12:00:00 to a date in the standard calendar.  Reason: day is out of range for month.",
     "output_type": "error",
     "traceback": [
      "\u001b[0;31m---------------------------------------------------------------------------\u001b[0m",
      "\u001b[0;31mAttributeError\u001b[0m                            Traceback (most recent call last)",
      "\u001b[0;32m~/proj/jet_streams/reanalysis_getter/jetstream/post_proc.py\u001b[0m in \u001b[0;36mdataset\u001b[0;34m(self)\u001b[0m\n\u001b[1;32m     66\u001b[0m                \u001b[0;32mtry\u001b[0m\u001b[0;34m:\u001b[0m\u001b[0;34m\u001b[0m\u001b[0;34m\u001b[0m\u001b[0m\n\u001b[0;32m---> 67\u001b[0;31m                    \u001b[0mself\u001b[0m\u001b[0;34m.\u001b[0m\u001b[0mdataset\u001b[0m\u001b[0;34m[\u001b[0m\u001b[0;34m'time'\u001b[0m\u001b[0;34m]\u001b[0m \u001b[0;34m=\u001b[0m \u001b[0mself\u001b[0m\u001b[0;34m.\u001b[0m\u001b[0mdataset\u001b[0m\u001b[0;34m.\u001b[0m\u001b[0mindexes\u001b[0m\u001b[0;34m[\u001b[0m\u001b[0;34m'time'\u001b[0m\u001b[0;34m]\u001b[0m\u001b[0;34m.\u001b[0m\u001b[0mnormalize\u001b[0m\u001b[0;34m(\u001b[0m\u001b[0;34m)\u001b[0m\u001b[0;34m\u001b[0m\u001b[0;34m\u001b[0m\u001b[0m\n\u001b[0m\u001b[1;32m     68\u001b[0m                \u001b[0;32mexcept\u001b[0m \u001b[0mAttributeError\u001b[0m\u001b[0;34m:\u001b[0m\u001b[0;34m\u001b[0m\u001b[0;34m\u001b[0m\u001b[0m\n",
      "\u001b[0;31mAttributeError\u001b[0m: 'CFTimeIndex' object has no attribute 'normalize'",
      "\nDuring handling of the above exception, another exception occurred:\n",
      "\u001b[0;31mValueError\u001b[0m                                Traceback (most recent call last)",
      "\u001b[0;32m~/.conda/envs/jetstream/lib/python3.6/site-packages/xarray/coding/times.py\u001b[0m in \u001b[0;36mcftime_to_nptime\u001b[0;34m(times)\u001b[0m\n\u001b[1;32m    296\u001b[0m             dt = pd.Timestamp(\n\u001b[0;32m--> 297\u001b[0;31m                 \u001b[0mt\u001b[0m\u001b[0;34m.\u001b[0m\u001b[0myear\u001b[0m\u001b[0;34m,\u001b[0m \u001b[0mt\u001b[0m\u001b[0;34m.\u001b[0m\u001b[0mmonth\u001b[0m\u001b[0;34m,\u001b[0m \u001b[0mt\u001b[0m\u001b[0;34m.\u001b[0m\u001b[0mday\u001b[0m\u001b[0;34m,\u001b[0m \u001b[0mt\u001b[0m\u001b[0;34m.\u001b[0m\u001b[0mhour\u001b[0m\u001b[0;34m,\u001b[0m \u001b[0mt\u001b[0m\u001b[0;34m.\u001b[0m\u001b[0mminute\u001b[0m\u001b[0;34m,\u001b[0m \u001b[0mt\u001b[0m\u001b[0;34m.\u001b[0m\u001b[0msecond\u001b[0m\u001b[0;34m,\u001b[0m \u001b[0mt\u001b[0m\u001b[0;34m.\u001b[0m\u001b[0mmicrosecond\u001b[0m\u001b[0;34m\u001b[0m\u001b[0;34m\u001b[0m\u001b[0m\n\u001b[0m\u001b[1;32m    298\u001b[0m             )\n",
      "\u001b[0;32mpandas/_libs/tslibs/timestamps.pyx\u001b[0m in \u001b[0;36mpandas._libs.tslibs.timestamps.Timestamp.__new__\u001b[0;34m()\u001b[0m\n",
      "\u001b[0;31mValueError\u001b[0m: day is out of range for month",
      "\nDuring handling of the above exception, another exception occurred:\n",
      "\u001b[0;31mValueError\u001b[0m                                Traceback (most recent call last)",
      "\u001b[0;32m<ipython-input-6-e0507ff57b85>\u001b[0m in \u001b[0;36m<module>\u001b[0;34m\u001b[0m\n\u001b[1;32m      6\u001b[0m      \u001b[0mshortname\u001b[0m\u001b[0;34m,\u001b[0m\u001b[0;34m\u001b[0m\u001b[0;34m\u001b[0m\u001b[0m\n\u001b[1;32m      7\u001b[0m      \u001b[0mpath_postproc\u001b[0m\u001b[0;34m,\u001b[0m\u001b[0;34m\u001b[0m\u001b[0;34m\u001b[0m\u001b[0m\n\u001b[0;32m----> 8\u001b[0;31m     var_of_interest)\n\u001b[0m",
      "\u001b[0;32m<ipython-input-4-d800c9ab874b>\u001b[0m in \u001b[0;36mmain\u001b[0;34m(path_processed, shortname, path_postproc, var_of_interest)\u001b[0m\n\u001b[1;32m      8\u001b[0m     \u001b[0;32mif\u001b[0m \u001b[0mvar_of_interest\u001b[0m \u001b[0;34m==\u001b[0m\u001b[0;34m't_prime'\u001b[0m\u001b[0;34m:\u001b[0m\u001b[0;34m\u001b[0m\u001b[0;34m\u001b[0m\u001b[0m\n\u001b[1;32m      9\u001b[0m         \u001b[0mfilename\u001b[0m\u001b[0;34m=\u001b[0m\u001b[0mpath_postproc\u001b[0m\u001b[0;34m+\u001b[0m\u001b[0;34mf'{shortname}_{var_of_interest}_demeaned.nc4'\u001b[0m\u001b[0;34m\u001b[0m\u001b[0;34m\u001b[0m\u001b[0m\n\u001b[0;32m---> 10\u001b[0;31m         single.demean(single.dataset.t_prime).rename('dm_t_prime'\n\u001b[0m\u001b[1;32m     11\u001b[0m                                             ).to_netcdf(filename)\n\u001b[1;32m     12\u001b[0m     \u001b[0;32melif\u001b[0m \u001b[0mvar_of_interest\u001b[0m \u001b[0;34m==\u001b[0m \u001b[0;34m'eff_lat'\u001b[0m\u001b[0;34m:\u001b[0m\u001b[0;34m\u001b[0m\u001b[0;34m\u001b[0m\u001b[0m\n",
      "\u001b[0;32m~/.local/lib/python3.6/site-packages/descriptors.py\u001b[0m in \u001b[0;36m__get__\u001b[0;34m(self, instance, _type)\u001b[0m\n\u001b[1;32m     21\u001b[0m             \u001b[0;32mreturn\u001b[0m \u001b[0mself\u001b[0m\u001b[0;34m\u001b[0m\u001b[0;34m\u001b[0m\u001b[0m\n\u001b[1;32m     22\u001b[0m \u001b[0;34m\u001b[0m\u001b[0m\n\u001b[0;32m---> 23\u001b[0;31m         \u001b[0msetattr\u001b[0m\u001b[0;34m(\u001b[0m\u001b[0minstance\u001b[0m\u001b[0;34m,\u001b[0m \u001b[0mself\u001b[0m\u001b[0;34m.\u001b[0m\u001b[0m__func__\u001b[0m\u001b[0;34m.\u001b[0m\u001b[0m__name__\u001b[0m\u001b[0;34m,\u001b[0m \u001b[0mself\u001b[0m\u001b[0;34m.\u001b[0m\u001b[0m__func__\u001b[0m\u001b[0;34m(\u001b[0m\u001b[0minstance\u001b[0m\u001b[0;34m)\u001b[0m\u001b[0;34m)\u001b[0m\u001b[0;34m\u001b[0m\u001b[0;34m\u001b[0m\u001b[0m\n\u001b[0m\u001b[1;32m     24\u001b[0m \u001b[0;34m\u001b[0m\u001b[0m\n\u001b[1;32m     25\u001b[0m         \u001b[0;31m# This descriptor is now overridden for this instance:\u001b[0m\u001b[0;34m\u001b[0m\u001b[0;34m\u001b[0m\u001b[0;34m\u001b[0m\u001b[0m\n",
      "\u001b[0;32m~/proj/jet_streams/reanalysis_getter/jetstream/post_proc.py\u001b[0m in \u001b[0;36mdataset\u001b[0;34m(self)\u001b[0m\n\u001b[1;32m     67\u001b[0m                    \u001b[0mself\u001b[0m\u001b[0;34m.\u001b[0m\u001b[0mdataset\u001b[0m\u001b[0;34m[\u001b[0m\u001b[0;34m'time'\u001b[0m\u001b[0;34m]\u001b[0m \u001b[0;34m=\u001b[0m \u001b[0mself\u001b[0m\u001b[0;34m.\u001b[0m\u001b[0mdataset\u001b[0m\u001b[0;34m.\u001b[0m\u001b[0mindexes\u001b[0m\u001b[0;34m[\u001b[0m\u001b[0;34m'time'\u001b[0m\u001b[0;34m]\u001b[0m\u001b[0;34m.\u001b[0m\u001b[0mnormalize\u001b[0m\u001b[0;34m(\u001b[0m\u001b[0;34m)\u001b[0m\u001b[0;34m\u001b[0m\u001b[0;34m\u001b[0m\u001b[0m\n\u001b[1;32m     68\u001b[0m                \u001b[0;32mexcept\u001b[0m \u001b[0mAttributeError\u001b[0m\u001b[0;34m:\u001b[0m\u001b[0;34m\u001b[0m\u001b[0;34m\u001b[0m\u001b[0m\n\u001b[0;32m---> 69\u001b[0;31m                    \u001b[0mself\u001b[0m\u001b[0;34m.\u001b[0m\u001b[0mdataset\u001b[0m\u001b[0;34m[\u001b[0m\u001b[0;34m'time'\u001b[0m\u001b[0;34m]\u001b[0m \u001b[0;34m=\u001b[0m \u001b[0mself\u001b[0m\u001b[0;34m.\u001b[0m\u001b[0mdataset\u001b[0m\u001b[0;34m.\u001b[0m\u001b[0mindexes\u001b[0m\u001b[0;34m[\u001b[0m\u001b[0;34m'time'\u001b[0m\u001b[0;34m]\u001b[0m\u001b[0;34m.\u001b[0m\u001b[0mto_datetimeindex\u001b[0m\u001b[0;34m(\u001b[0m\u001b[0;34m)\u001b[0m\u001b[0;34m.\u001b[0m\u001b[0mnormalize\u001b[0m\u001b[0;34m(\u001b[0m\u001b[0;34m)\u001b[0m\u001b[0;34m\u001b[0m\u001b[0;34m\u001b[0m\u001b[0m\n\u001b[0m\u001b[1;32m     70\u001b[0m                \u001b[0m_dataset\u001b[0m\u001b[0;34m=\u001b[0m\u001b[0mself\u001b[0m\u001b[0;34m.\u001b[0m\u001b[0msel_winters\u001b[0m\u001b[0;34m(\u001b[0m\u001b[0;34m)\u001b[0m\u001b[0;34m\u001b[0m\u001b[0;34m\u001b[0m\u001b[0m\n\u001b[1;32m     71\u001b[0m            \u001b[0;32mreturn\u001b[0m \u001b[0m_dataset\u001b[0m\u001b[0;34m\u001b[0m\u001b[0;34m\u001b[0m\u001b[0m\n",
      "\u001b[0;32m~/.conda/envs/jetstream/lib/python3.6/site-packages/xarray/coding/cftimeindex.py\u001b[0m in \u001b[0;36mto_datetimeindex\u001b[0;34m(self, unsafe)\u001b[0m\n\u001b[1;32m    479\u001b[0m         \u001b[0mDatetimeIndex\u001b[0m\u001b[0;34m(\u001b[0m\u001b[0;34m[\u001b[0m\u001b[0;34m'2000-01-01'\u001b[0m\u001b[0;34m,\u001b[0m \u001b[0;34m'2000-01-02'\u001b[0m\u001b[0;34m]\u001b[0m\u001b[0;34m,\u001b[0m \u001b[0mdtype\u001b[0m\u001b[0;34m=\u001b[0m\u001b[0;34m'datetime64[ns]'\u001b[0m\u001b[0;34m,\u001b[0m \u001b[0mfreq\u001b[0m\u001b[0;34m=\u001b[0m\u001b[0;32mNone\u001b[0m\u001b[0;34m)\u001b[0m\u001b[0;34m\u001b[0m\u001b[0;34m\u001b[0m\u001b[0m\n\u001b[1;32m    480\u001b[0m         \"\"\"\n\u001b[0;32m--> 481\u001b[0;31m         \u001b[0mnptimes\u001b[0m \u001b[0;34m=\u001b[0m \u001b[0mcftime_to_nptime\u001b[0m\u001b[0;34m(\u001b[0m\u001b[0mself\u001b[0m\u001b[0;34m)\u001b[0m\u001b[0;34m\u001b[0m\u001b[0;34m\u001b[0m\u001b[0m\n\u001b[0m\u001b[1;32m    482\u001b[0m         \u001b[0mcalendar\u001b[0m \u001b[0;34m=\u001b[0m \u001b[0minfer_calendar_name\u001b[0m\u001b[0;34m(\u001b[0m\u001b[0mself\u001b[0m\u001b[0;34m)\u001b[0m\u001b[0;34m\u001b[0m\u001b[0;34m\u001b[0m\u001b[0m\n\u001b[1;32m    483\u001b[0m         \u001b[0;32mif\u001b[0m \u001b[0mcalendar\u001b[0m \u001b[0;32mnot\u001b[0m \u001b[0;32min\u001b[0m \u001b[0m_STANDARD_CALENDARS\u001b[0m \u001b[0;32mand\u001b[0m \u001b[0;32mnot\u001b[0m \u001b[0munsafe\u001b[0m\u001b[0;34m:\u001b[0m\u001b[0;34m\u001b[0m\u001b[0;34m\u001b[0m\u001b[0m\n",
      "\u001b[0;32m~/.conda/envs/jetstream/lib/python3.6/site-packages/xarray/coding/times.py\u001b[0m in \u001b[0;36mcftime_to_nptime\u001b[0;34m(times)\u001b[0m\n\u001b[1;32m    300\u001b[0m             raise ValueError(\n\u001b[1;32m    301\u001b[0m                 \u001b[0;34m\"Cannot convert date {} to a date in the \"\u001b[0m\u001b[0;34m\u001b[0m\u001b[0;34m\u001b[0m\u001b[0m\n\u001b[0;32m--> 302\u001b[0;31m                 \u001b[0;34m\"standard calendar.  Reason: {}.\"\u001b[0m\u001b[0;34m.\u001b[0m\u001b[0mformat\u001b[0m\u001b[0;34m(\u001b[0m\u001b[0mt\u001b[0m\u001b[0;34m,\u001b[0m \u001b[0me\u001b[0m\u001b[0;34m)\u001b[0m\u001b[0;34m\u001b[0m\u001b[0;34m\u001b[0m\u001b[0m\n\u001b[0m\u001b[1;32m    303\u001b[0m             )\n\u001b[1;32m    304\u001b[0m         \u001b[0mnew\u001b[0m\u001b[0;34m[\u001b[0m\u001b[0mi\u001b[0m\u001b[0;34m]\u001b[0m \u001b[0;34m=\u001b[0m \u001b[0mnp\u001b[0m\u001b[0;34m.\u001b[0m\u001b[0mdatetime64\u001b[0m\u001b[0;34m(\u001b[0m\u001b[0mdt\u001b[0m\u001b[0;34m)\u001b[0m\u001b[0;34m\u001b[0m\u001b[0;34m\u001b[0m\u001b[0m\n",
      "\u001b[0;31mValueError\u001b[0m: Cannot convert date 2016-02-30 12:00:00 to a date in the standard calendar.  Reason: day is out of range for month."
     ]
    }
   ],
   "source": [
    "model='UKESM1-0-LL_ssp585_tas_daily'\n",
    "path_processed = f'{path_data}{model}/{model}_{var_of_interest}*11*.nc4'\n",
    "shortname = model.split('-')[0]\n",
    "print(shortname)\n",
    "main(path_processed,\n",
    "     shortname,\n",
    "     path_postproc,\n",
    "    var_of_interest)"
   ]
  },
  {
   "cell_type": "code",
   "execution_count": 24,
   "metadata": {},
   "outputs": [
    {
     "name": "stderr",
     "output_type": "stream",
     "text": [
      "distributed.utils_perf - WARNING - full garbage collections took 11% CPU time recently (threshold: 10%)\n"
     ]
    },
    {
     "data": {
      "text/html": [
       "<pre>&lt;xarray.DataArray &#x27;lala&#x27; (time: 3420, lat: 280, lon: 1440)&gt;\n",
       "dask.array&lt;getitem, shape=(3420, 280, 1440), dtype=float64, chunksize=(1, 280, 1440), chunktype=numpy.ndarray&gt;\n",
       "Coordinates:\n",
       "  * lat      (lat) float32 90.0 89.75 89.5 89.25 89.0 ... 21.0 20.75 20.5 20.25\n",
       "  * lon      (lon) float32 -180.0 -179.75 -179.5 -179.25 ... 179.25 179.5 179.75\n",
       "  * time     (time) datetime64[ns] 1980-12-01 1980-12-02 ... 2018-02-28</pre>"
      ],
      "text/plain": [
       "<xarray.DataArray 'lala' (time: 3420, lat: 280, lon: 1440)>\n",
       "dask.array<getitem, shape=(3420, 280, 1440), dtype=float64, chunksize=(1, 280, 1440), chunktype=numpy.ndarray>\n",
       "Coordinates:\n",
       "  * lat      (lat) float32 90.0 89.75 89.5 89.25 89.0 ... 21.0 20.75 20.5 20.25\n",
       "  * lon      (lon) float32 -180.0 -179.75 -179.5 -179.25 ... 179.25 179.5 179.75\n",
       "  * time     (time) datetime64[ns] 1980-12-01 1980-12-02 ... 2018-02-28"
      ]
     },
     "execution_count": 24,
     "metadata": {},
     "output_type": "execute_result"
    }
   ],
   "source": [
    "single = SingleModelPostProcessor(path_to_files=path_processed,\n",
    "         path_to_save_files=path_postproc+shortname+var_of_interest,\n",
    "         diagnostic_var=var_of_interest,\n",
    "         season='DJF')\n",
    "single.dataset.t_prime.rename('lala')"
   ]
  },
  {
   "cell_type": "code",
   "execution_count": null,
   "metadata": {},
   "outputs": [],
   "source": [
    "filename = path_postproc+f'era5_{var_of_interest}_demeaned.nc4'\n",
    "single.demean(single.dataset).rename({var_of_interest: 'dm_t_prime'}\n",
    "                                            ).to_netcdf(filename)"
   ]
  },
  {
   "cell_type": "code",
   "execution_count": 44,
   "metadata": {},
   "outputs": [
    {
     "ename": "AttributeError",
     "evalue": "'Future' object has no attribute 'where'",
     "output_type": "error",
     "traceback": [
      "\u001b[0;31m---------------------------------------------------------------------------\u001b[0m",
      "\u001b[0;31mAttributeError\u001b[0m                            Traceback (most recent call last)",
      "\u001b[0;32m<ipython-input-44-dd557d8431b1>\u001b[0m in \u001b[0;36m<module>\u001b[0;34m\u001b[0m\n\u001b[0;32m----> 1\u001b[0;31m \u001b[0mcomp\u001b[0m\u001b[0;34m.\u001b[0m\u001b[0mwhere\u001b[0m\u001b[0;34m(\u001b[0m\u001b[0m_comp\u001b[0m\u001b[0;34m[\u001b[0m\u001b[0;34m'eff_lat'\u001b[0m\u001b[0;34m]\u001b[0m \u001b[0;34m!=\u001b[0m\u001b[0;36m0\u001b[0m\u001b[0;34m)\u001b[0m\u001b[0;34m\u001b[0m\u001b[0;34m\u001b[0m\u001b[0m\n\u001b[0m",
      "\u001b[0;31mAttributeError\u001b[0m: 'Future' object has no attribute 'where'"
     ]
    }
   ],
   "source": [
    "comp.where(_comp['eff_lat'] !=0)"
   ]
  },
  {
   "cell_type": "code",
   "execution_count": null,
   "metadata": {},
   "outputs": [],
   "source": [
    "import xarray as xr\n",
    "\n",
    "\n",
    "test_shift = xr.open_dataset(filename,\n",
    "                            chunks={'time': 1})"
   ]
  },
  {
   "cell_type": "code",
   "execution_count": null,
   "metadata": {},
   "outputs": [],
   "source": [
    "test_shift.isel(time=0).dm_tprime.plot()"
   ]
  },
  {
   "cell_type": "code",
   "execution_count": 21,
   "metadata": {},
   "outputs": [
    {
     "data": {
      "text/plain": [
       "<matplotlib.collections.QuadMesh at 0x7fa8acbfba90>"
      ]
     },
     "execution_count": 21,
     "metadata": {},
     "output_type": "execute_result"
    },
    {
     "data": {
      "image/png": "[encoded data removed]",
      "text/plain": [
       "<Figure size 432x288 with 2 Axes>"
      ]
     },
     "metadata": {
      "needs_background": "light"
     },
     "output_type": "display_data"
    }
   ],
   "source": [
    "(single.dataset.isel(time=0).eff_lat - test_shift.isel(time=0).demeaned_shift).plot()"
   ]
  },
  {
   "cell_type": "code",
   "execution_count": null,
   "metadata": {},
   "outputs": [],
   "source": []
  }
 ],
 "metadata": {
  "kernelspec": {
   "display_name": "Python 3",
   "language": "python",
   "name": "python3"
  },
  "language_info": {
   "codemirror_mode": {
    "name": "ipython",
    "version": 3
   },
   "file_extension": ".py",
   "mimetype": "text/x-python",
   "name": "python",
   "nbconvert_exporter": "python",
   "pygments_lexer": "ipython3",
   "version": "3.6.10"
  }
 },
 "nbformat": 4,
 "nbformat_minor": 4
}
